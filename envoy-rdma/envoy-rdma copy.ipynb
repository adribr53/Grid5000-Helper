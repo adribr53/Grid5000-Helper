{
 "cells": [
  {
   "cell_type": "code",
   "execution_count": null,
   "id": "18dbd184",
   "metadata": {},
   "outputs": [],
   "source": [
    "import enoslib as en\n",
    "from grid5000 import Grid5000\n",
    "from pathlib import Path\n",
    "\n",
    "conf_file = Path.home() / \".python-grid5000.yaml\"\n",
    "gk = Grid5000.from_yaml(conf_file)\n",
    "gk.sites.list() # if credentials were written adequatly in .env, this should work"
   ]
  },
  {
   "cell_type": "markdown",
   "id": "7c8535f9",
   "metadata": {},
   "source": [
    "### Launch machines"
   ]
  },
  {
   "cell_type": "code",
   "execution_count": null,
   "id": "55f29f16",
   "metadata": {},
   "outputs": [],
   "source": [
    "import enoslib as en\n",
    "from grid5000 import Grid5000\n",
    "from pathlib import Path\n",
    "\n",
    "conf_file = Path.home() / \".python-grid5000.yaml\"\n",
    "gk = Grid5000.from_yaml(conf_file)\n",
    "gk.sites.list() # if credentials were written adequatly in .env, this should work\n",
    "\n",
    "job_name = 'dev'\n",
    "\n",
    "conf = (\n",
    "    en.G5kConf.from_settings(\n",
    "        job_name=job_name,\n",
    "        job_type=[],#\"deploy\"],\n",
    "        # key=\"/home/adrien/.ssh/grid\",\n",
    "        #env_name=\"ubuntu2204-min\",\n",
    "        walltime=\"6:00:00\"\n",
    "    )    \n",
    "    .add_machine(roles=[\"client\"], cluster=\"uvb\", nodes=1)\n",
    "    .add_machine(roles=[\"server\"], cluster=\"uvb\", nodes=1)\n",
    "    # .add_machine(roles=[\"client\"], servers=[\"uvb-25.sophia.grid5000.fr\"]) #cluster=\"grimoire\", nodes=1)\n",
    "    # .add_machine(roles=[\"server\"], servers=[\"uvb-26.sophia.grid5000.fr\"]) #cluster=\"grimoire\", nodes=1)\n",
    "    # .add_machine(roles=[\"client\"], servers=[\"grimoire-3.nancy.grid5000.fr\"]) #cluster=\"grimoire\", nodes=1)\n",
    "    # .add_machine(roles=[\"server\"], servers=[\"grimoire-4.nancy.grid5000.fr\"]) #cluster=\"grimoire\", nodes=1)\n",
    ")\n",
    "\n",
    "provider = en.G5k(conf)\n",
    "\n",
    "roles, networks = provider.init()"
   ]
  },
  {
   "cell_type": "markdown",
   "id": "33003064",
   "metadata": {},
   "source": [
    "### Docker \n",
    "\n"
   ]
  },
  {
   "cell_type": "code",
   "execution_count": null,
   "id": "9a2ec38c",
   "metadata": {},
   "outputs": [],
   "source": [
    "results = en.run_command(\"sudo-g5k apt update\", roles=roles[\"client\"]+roles[\"server\"])\n",
    "results = en.run_command(\"sudo-g5k apt install -y apt-transport-https ca-certificates curl software-properties-common\", roles=roles[\"client\"]+roles[\"server\"])\n",
    "results = en.run_command(\"curl -fsSL https://download.docker.com/linux/debian/gpg | sudo-g5k gpg --dearmor -o /usr/share/keyrings/docker-archive-keyring.gpg\", roles=roles[\"client\"]+roles[\"server\"])\n",
    "results = en.run_command('echo \"deb [arch=$(dpkg --print-architecture) signed-by=/usr/share/keyrings/docker-archive-keyring.gpg] https://download.docker.com/linux/debian $(lsb_release -cs) stable\" | sudo-g5k tee /etc/apt/sources.list.d/docker.list > /dev/null', roles=roles[\"client\"]+roles[\"server\"])\n",
    "results = en.run_command(\"sudo-g5k apt update\", roles=roles[\"client\"]+roles[\"server\"])\n",
    "results = en.run_command(\"apt-cache policy docker-ce\", roles=roles[\"client\"]+roles[\"server\"])\n",
    "results = en.run_command(\"sudo-g5k apt install -y docker-ce\", roles=roles[\"client\"]+roles[\"server\"])\n"
   ]
  },
  {
   "cell_type": "markdown",
   "id": "9e8e72e0",
   "metadata": {},
   "source": [
    "### Bazel"
   ]
  },
  {
   "cell_type": "markdown",
   "id": "c735e460",
   "metadata": {},
   "source": [
    "### Envoy - FIRST TIME"
   ]
  },
  {
   "cell_type": "code",
   "execution_count": null,
   "id": "eefd5796",
   "metadata": {},
   "outputs": [],
   "source": [
    "results = en.run_command(\"sudo-g5k apt install apt-transport-https curl gnupg -y\", roles=roles[\"client\"]+roles[\"server\"])\n",
    "results = en.run_command(\"curl -fsSL https://bazel.build/bazel-release.pub.gpg | gpg --dearmor >bazel-archive-keyring.gpg\", roles=roles[\"client\"]+roles[\"server\"])\n",
    "results = en.run_command(\"sudo-g5k mv bazel-archive-keyring.gpg /usr/share/keyrings\", roles=roles[\"client\"]+roles[\"server\"])\n",
    "results = en.run_command('echo \"deb [arch=amd64 signed-by=/usr/share/keyrings/bazel-archive-keyring.gpg] https://storage.googleapis.com/bazel-apt stable jdk1.8\" | sudo-g5k tee /etc/apt/sources.list.d/bazel.list', roles=roles[\"client\"]+roles[\"server\"])\n",
    "results = en.run_command(\"sudo-g5k apt update && sudo-g5k apt install -y bazel\", roles=roles[\"client\"]+roles[\"server\"])\n",
    "#results = en.run_command(\"sudo-g5k apt update && sudo-g5k apt full-upgrade -y\", roles=roles[\"client\"])"
   ]
  },
  {
   "cell_type": "code",
   "execution_count": null,
   "id": "b4de4128",
   "metadata": {},
   "outputs": [],
   "source": [
    "results = en.run_command(\"cd /home/mdeneuville && git clone https://github.com/adribr53/envoy\", roles=roles[\"client\"])\n",
    "results = en.run_command(\"cd /home/mdeneuville/envoy && ./ci/run_envoy_docker.sh './ci/do_ci.sh bazel.release.server_only'\", roles=roles[\"client\"])\n",
    "#results = en.run_command(\"./ci/run_envoy_docker.sh './ci/do_ci.sh bazel.release.server_only'\", roles=roles[\"server\"], background=True)\n",
    "#results = en.run_command(\"cp -r /tmp/envoy-docker-build/ /home/agiot/\", roles=roles[\"client\"])\n",
    "# copy /root/envoy to /home/agiot"
   ]
  },
  {
   "cell_type": "markdown",
   "id": "64dad05b",
   "metadata": {},
   "source": [
    "### Envoy - Save build"
   ]
  },
  {
   "cell_type": "code",
   "execution_count": null,
   "id": "9235fbb4",
   "metadata": {},
   "outputs": [],
   "source": [
    "results = en.run_command(\"cd /tmp && tar -czvf envoy-docker-build.tar.gz envoy-docker-build/\", roles=roles[\"client\"])\n",
    "results = en.run_command(\"scp -r /tmp/envoy-docker-build.tar.gz rdma-vm:.g5k\", roles=roles[\"client\"])"
   ]
  },
  {
   "cell_type": "markdown",
   "id": "3c2f94cf",
   "metadata": {},
   "source": [
    "### Envoy - Get build back"
   ]
  },
  {
   "cell_type": "code",
   "execution_count": null,
   "id": "8c6038eb",
   "metadata": {},
   "outputs": [],
   "source": [
    "# results = en.run_command(\"scp -r rdma-vm:./g5k/envoy-docker-build.tar.gz /tmp\", roles=roles[\"client\"]+roles[\"server\"])\n",
    "results = en.run_command(\"cp /home/mdeneuville/envoy-docker-build.tar.gz /tmp\", roles=roles[\"client\"]+roles[\"server\"])\n",
    "results = en.run_command(\"cd /tmp && sudo-g5k tar -xzvf envoy-docker-build.tar.gz\", roles=roles[\"client\"]+roles[\"server\"])\n",
    "results = en.run_command(\"cd /tmp && sudo chown -R root:docker envoy-docker-build && sudo chmod 755 -R envoy-docker-build\", roles=roles[\"client\"]+roles[\"server\"])\n",
    "results = en.run_command(\"cd /home/mdeneuville/envoy && ./ci/run_envoy_docker.sh './ci/do_ci.sh bazel.release.server_only'\", roles=roles[\"client\"]+roles[\"server\"])"
   ]
  },
  {
   "cell_type": "markdown",
   "id": "ffb1ada6",
   "metadata": {},
   "source": [
    "Envoy - Rebuild"
   ]
  },
  {
   "cell_type": "code",
   "execution_count": null,
   "id": "9dfe8a6c",
   "metadata": {},
   "outputs": [],
   "source": [
    "results = en.run_command(\"cd /home/mdeneuville/envoy && ./ci/run_envoy_docker.sh './ci/do_ci.sh bazel.release.server_only'\", roles=roles[\"client\"]+roles[\"server\"])"
   ]
  },
  {
   "cell_type": "markdown",
   "id": "78def491",
   "metadata": {},
   "source": [
    "### Envoy - FOLLOWING TIMES"
   ]
  },
  {
   "cell_type": "code",
   "execution_count": null,
   "id": "e6e20ad6",
   "metadata": {},
   "outputs": [],
   "source": [
    "results = en.run_command(\"sudo-g5k cp -r /home/mdeneuville/envoy-docker-build/ /tmp\", roles=roles[\"client\"]+roles[\"server\"])\n"
   ]
  },
  {
   "cell_type": "markdown",
   "id": "592fbbba",
   "metadata": {},
   "source": [
    "### Destroy"
   ]
  },
  {
   "cell_type": "code",
   "execution_count": null,
   "id": "5a6b94d6",
   "metadata": {},
   "outputs": [],
   "source": [
    "provider.destroy()\n"
   ]
  }
 ],
 "metadata": {
  "kernelspec": {
   "display_name": "Python 3.8.10 64-bit",
   "language": "python",
   "name": "python3"
  },
  "language_info": {
   "codemirror_mode": {
    "name": "ipython",
    "version": 3
   },
   "file_extension": ".py",
   "mimetype": "text/x-python",
   "name": "python",
   "nbconvert_exporter": "python",
   "pygments_lexer": "ipython3",
   "version": "3.8.10"
  },
  "vscode": {
   "interpreter": {
    "hash": "31f2aee4e71d21fbe5cf8b01ff0e069b9275f58929596ceb00d14d90e3e16cd6"
   }
  }
 },
 "nbformat": 4,
 "nbformat_minor": 5
}
