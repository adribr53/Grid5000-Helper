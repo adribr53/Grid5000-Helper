{
 "cells": [
  {
   "cell_type": "code",
   "execution_count": 9,
   "id": "18dbd184",
   "metadata": {},
   "outputs": [
    {
     "data": {
      "text/plain": [
       "[<Site uid:grenoble>,\n",
       " <Site uid:lille>,\n",
       " <Site uid:luxembourg>,\n",
       " <Site uid:lyon>,\n",
       " <Site uid:nancy>,\n",
       " <Site uid:nantes>,\n",
       " <Site uid:rennes>,\n",
       " <Site uid:sophia>,\n",
       " <Site uid:toulouse>]"
      ]
     },
     "execution_count": 9,
     "metadata": {},
     "output_type": "execute_result"
    }
   ],
   "source": [
    "import enoslib as en\n",
    "from grid5000 import Grid5000\n",
    "from pathlib import Path\n",
    "\n",
    "conf_file = Path.home() / \".python-grid5000.yaml\"\n",
    "gk = Grid5000.from_yaml(conf_file)\n",
    "gk.sites.list() # if credentials were written adequatly in .env, this should work"
   ]
  },
  {
   "cell_type": "markdown",
   "id": "7c8535f9",
   "metadata": {},
   "source": [
    "### Launch machines"
   ]
  },
  {
   "cell_type": "code",
   "execution_count": null,
   "id": "55f29f16",
   "metadata": {},
   "outputs": [],
   "source": [
    "import enoslib as en\n",
    "from grid5000 import Grid5000\n",
    "from pathlib import Path\n",
    "\n",
    "conf_file = Path.home() / \".python-grid5000.yaml\"\n",
    "gk = Grid5000.from_yaml(conf_file)\n",
    "gk.sites.list() # if credentials were written adequatly in .env, this should work\n",
    "\n",
    "job_name = 'dev'\n",
    "\n",
    "conf = (\n",
    "    en.G5kConf.from_settings(\n",
    "        job_name=job_name,\n",
    "        job_type=[],#\"deploy\"],\n",
    "        key=\"/home/adrien/.ssh/grid\",\n",
    "        #env_name=\"ubuntu2204-min\",\n",
    "        walltime=\"5:00:00\"\n",
    "    )    \n",
    "    .add_machine(roles=[\"client\"], cluster=\"uvb\", nodes=1)\n",
    "    .add_machine(roles=[\"server\"], cluster=\"uvb\", nodes=1)\n",
    "    #.add_machine(roles=[\"client\"], servers=[\"uvb-27.sophia.grid5000.fr\"]) #cluster=\"grimoire\", nodes=1)\n",
    "    #.add_machine(roles=[\"server\"], servers=[\"uvb-38.sophia.grid5000.fr\"]) #cluster=\"grimoire\", nodes=1)\n",
    "    #.add_machine(roles=[\"client\"], servers=[\"grimoire-3.nancy.grid5000.fr\"]) #cluster=\"grimoire\", nodes=1)\n",
    "    #.add_machine(roles=[\"server\"], servers=[\"grimoire-4.nancy.grid5000.fr\"]) #cluster=\"grimoire\", nodes=1)\n",
    ")\n",
    "\n",
    "provider = en.G5k(conf)\n",
    "\n",
    "roles, networks = provider.init()"
   ]
  },
  {
   "cell_type": "markdown",
   "id": "33003064",
   "metadata": {},
   "source": [
    "### Docker \n",
    "\n"
   ]
  },
  {
   "cell_type": "code",
   "execution_count": null,
   "id": "9a2ec38c",
   "metadata": {},
   "outputs": [],
   "source": [
    "results = en.run_command(\"sudo-g5k apt update\", roles=roles[\"client\"]+roles[\"server\"])\n",
    "results = en.run_command(\"sudo-g5k apt install -y apt-transport-https ca-certificates curl software-properties-common\", roles=roles[\"client\"]+roles[\"server\"])\n",
    "#results = en.run_command(\"curl -fsSL https://download.docker.com/linux/debian/gpg | sudo-g5k gpg --dearmor -o /usr/share/keyrings/docker-archive-keyring.gpg\", roles=roles[\"client\"]+roles[\"server\"])\n",
    "results = en.run_command('echo \"deb [arch=$(dpkg --print-architecture) signed-by=/usr/share/keyrings/docker-archive-keyring.gpg] https://download.docker.com/linux/debian $(lsb_release -cs) stable\" | sudo-g5k tee /etc/apt/sources.list.d/docker.list > /dev/null', roles=roles[\"client\"]+roles[\"server\"])\n",
    "results = en.run_command(\"sudo-g5k apt update\", roles=roles[\"client\"]+roles[\"server\"])\n",
    "results = en.run_command(\"apt-cache policy docker-ce\", roles=roles[\"client\"]+roles[\"server\"])\n",
    "results = en.run_command(\"sudo-g5k apt install -y docker-ce\", roles=roles[\"client\"]+roles[\"server\"])\n"
   ]
  },
  {
   "cell_type": "markdown",
   "id": "9e8e72e0",
   "metadata": {},
   "source": [
    "### Bazel"
   ]
  },
  {
   "cell_type": "code",
   "execution_count": null,
   "id": "eefd5796",
   "metadata": {},
   "outputs": [],
   "source": [
    "results = en.run_command(\"sudo-g5k apt install apt-transport-https curl gnupg -y\", roles=roles[\"client\"]+roles[\"server\"])\n",
    "results = en.run_command(\"curl -fsSL https://bazel.build/bazel-release.pub.gpg | gpg --dearmor >bazel-archive-keyring.gpg\", roles=roles[\"client\"]+roles[\"server\"])\n",
    "results = en.run_command(\"sudo-g5k mv bazel-archive-keyring.gpg /usr/share/keyrings\", roles=roles[\"client\"]+roles[\"server\"])\n",
    "results = en.run_command('echo \"deb [arch=amd64 signed-by=/usr/share/keyrings/bazel-archive-keyring.gpg] https://storage.googleapis.com/bazel-apt stable jdk1.8\" | sudo-g5k tee /etc/apt/sources.list.d/bazel.list', roles=roles[\"client\"]+roles[\"server\"])\n",
    "results = en.run_command(\"sudo-g5k apt update && sudo-g5k apt install -y bazel\", roles=roles[\"client\"]+roles[\"server\"])\n",
    "#results = en.run_command(\"sudo-g5k apt update && sudo-g5k apt full-upgrade -y\", roles=roles[\"client\"])"
   ]
  },
  {
   "cell_type": "markdown",
   "id": "c735e460",
   "metadata": {},
   "source": [
    "### Envoy - FIRST TIME"
   ]
  },
  {
   "cell_type": "code",
   "execution_count": 15,
   "id": "b4de4128",
   "metadata": {},
   "outputs": [
    {
     "data": {
      "text/html": [
       "<pre style=\"white-space:pre;overflow-x:auto;line-height:normal;font-family:Menlo,'DejaVu Sans Mono',consolas,'Courier New',monospace\"></pre>\n"
      ],
      "text/plain": []
     },
     "metadata": {},
     "output_type": "display_data"
    },
    {
     "data": {
      "text/html": [
       "<pre style=\"white-space:pre;overflow-x:auto;line-height:normal;font-family:Menlo,'DejaVu Sans Mono',consolas,'Courier New',monospace\"><span style=\"color: #000080; text-decoration-color: #000080; font-weight: bold\">Finished </span><span style=\"color: #000080; text-decoration-color: #000080; font-weight: bold\">1</span><span style=\"color: #000080; text-decoration-color: #000080; font-weight: bold\"> tasks</span> <span style=\"font-weight: bold; font-style: italic\">(</span><span style=\"font-style: italic\">git clone </span><span style=\"color: #0000ff; text-decoration-color: #0000ff; font-style: italic; text-decoration: underline\">https://github.com/adribr53/envoy)</span> on <span style=\"font-weight: bold\">{</span><span style=\"color: #008000; text-decoration-color: #008000\">'nova-9.lyon.grid5000.fr'</span><span style=\"font-weight: bold\">}</span>\n",
       "</pre>\n"
      ],
      "text/plain": [
       "\u001b[1;34mFinished \u001b[0m\u001b[1;34m1\u001b[0m\u001b[1;34m tasks\u001b[0m \u001b[1;3m(\u001b[0m\u001b[3mgit clone \u001b[0m\u001b[3;4;94mhttps://github.com/adribr53/envoy\u001b[0m\u001b[3;4;94m)\u001b[0m on \u001b[1m{\u001b[0m\u001b[32m'nova-9.lyon.grid5000.fr'\u001b[0m\u001b[1m}\u001b[0m\n"
      ]
     },
     "metadata": {},
     "output_type": "display_data"
    },
    {
     "data": {
      "text/html": [
       "<pre style=\"white-space:pre;overflow-x:auto;line-height:normal;font-family:Menlo,'DejaVu Sans Mono',consolas,'Courier New',monospace\"><span style=\"color: #00ff00; text-decoration-color: #00ff00\">─────────────────────────────────────────────────────────────────────────────────────────────</span>\n",
       "</pre>\n"
      ],
      "text/plain": [
       "\u001b[92m─────────────────────────────────────────────────────────────────────────────────────────────\u001b[0m\n"
      ]
     },
     "metadata": {},
     "output_type": "display_data"
    },
    {
     "data": {
      "application/vnd.jupyter.widget-view+json": {
       "model_id": "",
       "version_major": 2,
       "version_minor": 0
      },
      "text/plain": [
       "Output()"
      ]
     },
     "metadata": {},
     "output_type": "display_data"
    },
    {
     "data": {
      "text/html": [
       "<pre style=\"white-space:pre;overflow-x:auto;line-height:normal;font-family:Menlo,'DejaVu Sans Mono',consolas,'Courier New',monospace\"></pre>\n"
      ],
      "text/plain": []
     },
     "metadata": {},
     "output_type": "display_data"
    },
    {
     "data": {
      "text/html": [
       "<pre style=\"white-space:pre;overflow-x:auto;line-height:normal;font-family:Menlo,'DejaVu Sans Mono',consolas,'Courier New',monospace\"><span style=\"color: #000080; text-decoration-color: #000080; font-weight: bold\">Finished </span><span style=\"color: #000080; text-decoration-color: #000080; font-weight: bold\">1</span><span style=\"color: #000080; text-decoration-color: #000080; font-weight: bold\"> tasks</span> <span style=\"font-weight: bold; font-style: italic\">(</span><span style=\"font-style: italic\">cd envoy &amp;&amp; .</span><span style=\"color: #800080; text-decoration-color: #800080; font-style: italic\">/ci/</span><span style=\"color: #ff00ff; text-decoration-color: #ff00ff; font-style: italic\">run_envoy_docker.sh</span><span style=\"font-style: italic\"> </span><span style=\"color: #008000; text-decoration-color: #008000; font-style: italic\">'./ci/do_ci.sh </span>\n",
       "<span style=\"color: #008000; text-decoration-color: #008000; font-style: italic\">bazel.release.server_only'</span><span style=\"font-weight: bold; font-style: italic\">)</span> on <span style=\"font-weight: bold\">{</span><span style=\"color: #008000; text-decoration-color: #008000\">'nova-9.lyon.grid5000.fr'</span><span style=\"font-weight: bold\">}</span>\n",
       "</pre>\n"
      ],
      "text/plain": [
       "\u001b[1;34mFinished \u001b[0m\u001b[1;34m1\u001b[0m\u001b[1;34m tasks\u001b[0m \u001b[1;3m(\u001b[0m\u001b[3mcd envoy && .\u001b[0m\u001b[3;35m/ci/\u001b[0m\u001b[3;95mrun_envoy_docker.sh\u001b[0m\u001b[3m \u001b[0m\u001b[3;32m'./ci/do_ci.sh \u001b[0m\n",
       "\u001b[3;32mbazel.release.server_only'\u001b[0m\u001b[1;3m)\u001b[0m on \u001b[1m{\u001b[0m\u001b[32m'nova-9.lyon.grid5000.fr'\u001b[0m\u001b[1m}\u001b[0m\n"
      ]
     },
     "metadata": {},
     "output_type": "display_data"
    },
    {
     "data": {
      "text/html": [
       "<pre style=\"white-space:pre;overflow-x:auto;line-height:normal;font-family:Menlo,'DejaVu Sans Mono',consolas,'Courier New',monospace\"><span style=\"color: #00ff00; text-decoration-color: #00ff00\">─────────────────────────────────────────────────────────────────────────────────────────────</span>\n",
       "</pre>\n"
      ],
      "text/plain": [
       "\u001b[92m─────────────────────────────────────────────────────────────────────────────────────────────\u001b[0m\n"
      ]
     },
     "metadata": {},
     "output_type": "display_data"
    }
   ],
   "source": [
    "results = en.run_command(\"cd /home/agiot && git clone https://github.com/adribr53/envoy\", roles=roles[\"client\"])\n",
    "results = en.run_command(\"cd /home/agiot/envoy && ./ci/run_envoy_docker.sh './ci/do_ci.sh bazel.release.server_only'\", roles=roles[\"client\"])\n",
    "results = en.run_command(\"cp -r /tmp/envoy-docker-build/ /home/agiot/\", roles=roles[\"client\"])\n"
   ]
  },
  {
   "cell_type": "markdown",
   "id": "78def491",
   "metadata": {},
   "source": [
    "### Envoy - FOLLOWING TIMES"
   ]
  },
  {
   "cell_type": "code",
   "execution_count": 8,
   "id": "e6e20ad6",
   "metadata": {},
   "outputs": [
    {
     "data": {
      "text/html": [
       "<pre style=\"white-space:pre;overflow-x:auto;line-height:normal;font-family:Menlo,'DejaVu Sans Mono',consolas,'Courier New',monospace\"><span style=\"color: #008000; text-decoration-color: #008000\">⠙</span> <span style=\"color: #000080; text-decoration-color: #000080; font-weight: bold\">Running</span> <span style=\"color: #800080; text-decoration-color: #800080\">curl -fsSL https://download.docker.com/linux/debian/gpg | sudo-g5k gpg --dearmor -o</span>\n",
       "<span style=\"color: #800080; text-decoration-color: #800080\">/usr/share/keyrings/docker-archive-keyring.gpg</span> on uvb-6.sophia.grid5000.fr \n",
       "<span style=\"color: #008000; text-decoration-color: #008000\">uvb-9.sophia.grid5000.fr</span>\n",
       "</pre>\n"
      ],
      "text/plain": [
       "\u001b[32m⠙\u001b[0m \u001b[1;34mRunning\u001b[0m \u001b[35mcurl -fsSL https://download.docker.com/linux/debian/gpg | sudo-g5k gpg --dearmor -o\u001b[0m\n",
       "\u001b[35m/usr/share/keyrings/docker-archive-keyring.gpg\u001b[0m on uvb-6.sophia.grid5000.fr \n",
       "\u001b[32muvb-9.sophia.grid5000.fr\u001b[0m\n"
      ]
     },
     "metadata": {},
     "output_type": "display_data"
    },
    {
     "data": {
      "text/html": [
       "<pre style=\"white-space:pre;overflow-x:auto;line-height:normal;font-family:Menlo,'DejaVu Sans Mono',consolas,'Courier New',monospace\"></pre>\n"
      ],
      "text/plain": []
     },
     "metadata": {},
     "output_type": "display_data"
    },
    {
     "data": {
      "text/html": [
       "<pre style=\"white-space:pre;overflow-x:auto;line-height:normal;font-family:Menlo,'DejaVu Sans Mono',consolas,'Courier New',monospace\"><span style=\"color: #000080; text-decoration-color: #000080; font-weight: bold\">Finished </span><span style=\"color: #000080; text-decoration-color: #000080; font-weight: bold\">1</span><span style=\"color: #000080; text-decoration-color: #000080; font-weight: bold\"> tasks</span> <span style=\"font-weight: bold; font-style: italic\">(</span><span style=\"font-style: italic\">sudo-g5k cp -r </span><span style=\"color: #800080; text-decoration-color: #800080; font-style: italic\">/home/agiot/envoy-docker-build/</span><span style=\"font-style: italic\"> </span><span style=\"color: #800080; text-decoration-color: #800080; font-style: italic\">/</span><span style=\"color: #ff00ff; text-decoration-color: #ff00ff; font-style: italic\">tmp</span><span style=\"font-weight: bold; font-style: italic\">)</span> on \n",
       "<span style=\"font-weight: bold\">{</span><span style=\"color: #008000; text-decoration-color: #008000\">'uvb-9.sophia.grid5000.fr'</span>, <span style=\"color: #008000; text-decoration-color: #008000\">'uvb-6.sophia.grid5000.fr'</span><span style=\"font-weight: bold\">}</span>\n",
       "</pre>\n"
      ],
      "text/plain": [
       "\u001b[1;34mFinished \u001b[0m\u001b[1;34m1\u001b[0m\u001b[1;34m tasks\u001b[0m \u001b[1;3m(\u001b[0m\u001b[3msudo-g5k cp -r \u001b[0m\u001b[3;35m/home/agiot/envoy-docker-build/\u001b[0m\u001b[3m \u001b[0m\u001b[3;35m/\u001b[0m\u001b[3;95mtmp\u001b[0m\u001b[1;3m)\u001b[0m on \n",
       "\u001b[1m{\u001b[0m\u001b[32m'uvb-9.sophia.grid5000.fr'\u001b[0m, \u001b[32m'uvb-6.sophia.grid5000.fr'\u001b[0m\u001b[1m}\u001b[0m\n"
      ]
     },
     "metadata": {},
     "output_type": "display_data"
    },
    {
     "data": {
      "text/html": [
       "<pre style=\"white-space:pre;overflow-x:auto;line-height:normal;font-family:Menlo,'DejaVu Sans Mono',consolas,'Courier New',monospace\"><span style=\"color: #00ff00; text-decoration-color: #00ff00\">─────────────────────────────────────────────────────────────────────────────────────────────</span>\n",
       "</pre>\n"
      ],
      "text/plain": [
       "\u001b[92m─────────────────────────────────────────────────────────────────────────────────────────────\u001b[0m\n"
      ]
     },
     "metadata": {},
     "output_type": "display_data"
    }
   ],
   "source": [
    "results = en.run_command(\"sudo-g5k cp -r /home/agiot/envoy-docker-build/ /tmp\", roles=roles[\"client\"]+roles[\"server\"])\n"
   ]
  },
  {
   "cell_type": "markdown",
   "id": "592fbbba",
   "metadata": {},
   "source": [
    "### Destroy"
   ]
  },
  {
   "cell_type": "code",
   "execution_count": 18,
   "id": "5a6b94d6",
   "metadata": {},
   "outputs": [],
   "source": [
    "provider.destroy()\n"
   ]
  }
 ],
 "metadata": {
  "kernelspec": {
   "display_name": "env39",
   "language": "python",
   "name": "env39"
  },
  "language_info": {
   "codemirror_mode": {
    "name": "ipython",
    "version": 3
   },
   "file_extension": ".py",
   "mimetype": "text/x-python",
   "name": "python",
   "nbconvert_exporter": "python",
   "pygments_lexer": "ipython3",
   "version": "3.9.6"
  }
 },
 "nbformat": 4,
 "nbformat_minor": 5
}
