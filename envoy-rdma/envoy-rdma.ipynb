{
 "cells": [
  {
   "cell_type": "code",
   "execution_count": 11,
   "id": "18dbd184",
   "metadata": {},
   "outputs": [
    {
     "data": {
      "text/plain": [
       "[<Site uid:grenoble>,\n",
       " <Site uid:lille>,\n",
       " <Site uid:luxembourg>,\n",
       " <Site uid:lyon>,\n",
       " <Site uid:nancy>,\n",
       " <Site uid:nantes>,\n",
       " <Site uid:rennes>,\n",
       " <Site uid:sophia>,\n",
       " <Site uid:toulouse>]"
      ]
     },
     "execution_count": 11,
     "metadata": {},
     "output_type": "execute_result"
    }
   ],
   "source": [
    "import enoslib as en\n",
    "from grid5000 import Grid5000\n",
    "from pathlib import Path\n",
    "\n",
    "conf_file = Path.home() / \".python-grid5000.yaml\"\n",
    "gk = Grid5000.from_yaml(conf_file)\n",
    "gk.sites.list() # if credentials were written adequatly in .env, this should work"
   ]
  },
  {
   "cell_type": "markdown",
   "id": "7c8535f9",
   "metadata": {},
   "source": [
    "### Launch machines"
   ]
  },
  {
   "cell_type": "code",
   "execution_count": 12,
   "id": "55f29f16",
   "metadata": {},
   "outputs": [
    {
     "data": {
      "application/vnd.jupyter.widget-view+json": {
       "model_id": "",
       "version_major": 2,
       "version_minor": 0
      },
      "text/plain": [
       "Output()"
      ]
     },
     "metadata": {},
     "output_type": "display_data"
    },
    {
     "data": {
      "text/html": [
       "<pre style=\"white-space:pre;overflow-x:auto;line-height:normal;font-family:Menlo,'DejaVu Sans Mono',consolas,'Courier New',monospace\"></pre>\n"
      ],
      "text/plain": []
     },
     "metadata": {},
     "output_type": "display_data"
    },
    {
     "data": {
      "text/html": [
       "<pre style=\"white-space:pre;overflow-x:auto;line-height:normal;font-family:Menlo,'DejaVu Sans Mono',consolas,'Courier New',monospace\"><span style=\"color: #000080; text-decoration-color: #000080; font-weight: bold\">Finished </span><span style=\"color: #000080; text-decoration-color: #000080; font-weight: bold\">1</span><span style=\"color: #000080; text-decoration-color: #000080; font-weight: bold\"> tasks</span> <span style=\"font-weight: bold; font-style: italic\">(</span><span style=\"font-style: italic\">Granting root access on the nodes </span><span style=\"font-weight: bold; font-style: italic\">(</span><span style=\"font-style: italic\">sudo-g5k</span><span style=\"font-weight: bold; font-style: italic\">))</span> on \n",
       "<span style=\"font-weight: bold\">{</span><span style=\"color: #008000; text-decoration-color: #008000\">'gros-43.nancy.grid5000.fr'</span>, <span style=\"color: #008000; text-decoration-color: #008000\">'gros-40.nancy.grid5000.fr'</span><span style=\"font-weight: bold\">}</span>\n",
       "</pre>\n"
      ],
      "text/plain": [
       "\u001b[1;34mFinished \u001b[0m\u001b[1;34m1\u001b[0m\u001b[1;34m tasks\u001b[0m \u001b[1;3m(\u001b[0m\u001b[3mGranting root access on the nodes \u001b[0m\u001b[1;3m(\u001b[0m\u001b[3msudo-g5k\u001b[0m\u001b[1;3m)\u001b[0m\u001b[1;3m)\u001b[0m on \n",
       "\u001b[1m{\u001b[0m\u001b[32m'gros-43.nancy.grid5000.fr'\u001b[0m, \u001b[32m'gros-40.nancy.grid5000.fr'\u001b[0m\u001b[1m}\u001b[0m\n"
      ]
     },
     "metadata": {},
     "output_type": "display_data"
    },
    {
     "data": {
      "text/html": [
       "<pre style=\"white-space:pre;overflow-x:auto;line-height:normal;font-family:Menlo,'DejaVu Sans Mono',consolas,'Courier New',monospace\"><span style=\"color: #00ff00; text-decoration-color: #00ff00\">─────────────────────────────────────────────────────────────────────────────────────────────</span>\n",
       "</pre>\n"
      ],
      "text/plain": [
       "\u001b[92m─────────────────────────────────────────────────────────────────────────────────────────────\u001b[0m\n"
      ]
     },
     "metadata": {},
     "output_type": "display_data"
    }
   ],
   "source": [
    "import enoslib as en\n",
    "from grid5000 import Grid5000\n",
    "from pathlib import Path\n",
    "\n",
    "conf_file = Path.home() / \".python-grid5000.yaml\"\n",
    "gk = Grid5000.from_yaml(conf_file)\n",
    "gk.sites.list() # if credentials were written adequatly in .env, this should work\n",
    "\n",
    "job_name = 'dev'\n",
    "\n",
    "conf = (\n",
    "    en.G5kConf.from_settings(\n",
    "        job_name=job_name,\n",
    "        job_type=[],#\"deploy\"],\n",
    "        key=\"/home/adrien/.ssh/grid\",\n",
    "        #env_name=\"ubuntu2204-min\",\n",
    "        walltime=\"2:00:00\"\n",
    "    )    \n",
    "    .add_machine(roles=[\"client\"], cluster=\"gros\", nodes=1)\n",
    "    .add_machine(roles=[\"server\"], cluster=\"gros\", nodes=1)\n",
    "    #.add_machine(roles=[\"client\"], servers=[\"uvb-27.sophia.grid5000.fr\"]) #cluster=\"grimoire\", nodes=1)\n",
    "    #.add_machine(roles=[\"server\"], servers=[\"uvb-38.sophia.grid5000.fr\"]) #cluster=\"grimoire\", nodes=1)\n",
    "    #.add_machine(roles=[\"client\"], servers=[\"grimoire-3.nancy.grid5000.fr\"]) #cluster=\"grimoire\", nodes=1)\n",
    "    #.add_machine(roles=[\"server\"], servers=[\"grimoire-4.nancy.grid5000.fr\"]) #cluster=\"grimoire\", nodes=1)\n",
    ")\n",
    "\n",
    "provider = en.G5k(conf)\n",
    "\n",
    "roles, networks = provider.init()"
   ]
  },
  {
   "cell_type": "markdown",
   "id": "33003064",
   "metadata": {},
   "source": [
    "### Docker \n",
    "\n"
   ]
  },
  {
   "cell_type": "code",
   "execution_count": 13,
   "id": "9a2ec38c",
   "metadata": {},
   "outputs": [
    {
     "data": {
      "application/vnd.jupyter.widget-view+json": {
       "model_id": "",
       "version_major": 2,
       "version_minor": 0
      },
      "text/plain": [
       "Output()"
      ]
     },
     "metadata": {},
     "output_type": "display_data"
    },
    {
     "data": {
      "text/html": [
       "<pre style=\"white-space:pre;overflow-x:auto;line-height:normal;font-family:Menlo,'DejaVu Sans Mono',consolas,'Courier New',monospace\"></pre>\n"
      ],
      "text/plain": []
     },
     "metadata": {},
     "output_type": "display_data"
    },
    {
     "data": {
      "text/html": [
       "<pre style=\"white-space:pre;overflow-x:auto;line-height:normal;font-family:Menlo,'DejaVu Sans Mono',consolas,'Courier New',monospace\"><span style=\"color: #000080; text-decoration-color: #000080; font-weight: bold\">Finished </span><span style=\"color: #000080; text-decoration-color: #000080; font-weight: bold\">1</span><span style=\"color: #000080; text-decoration-color: #000080; font-weight: bold\"> tasks</span> <span style=\"font-weight: bold; font-style: italic\">(</span><span style=\"font-style: italic\">sudo-g5k apt update</span><span style=\"font-weight: bold; font-style: italic\">)</span> on <span style=\"font-weight: bold\">{</span><span style=\"color: #008000; text-decoration-color: #008000\">'gros-43.nancy.grid5000.fr'</span>, \n",
       "<span style=\"color: #008000; text-decoration-color: #008000\">'gros-40.nancy.grid5000.fr'</span><span style=\"font-weight: bold\">}</span>\n",
       "</pre>\n"
      ],
      "text/plain": [
       "\u001b[1;34mFinished \u001b[0m\u001b[1;34m1\u001b[0m\u001b[1;34m tasks\u001b[0m \u001b[1;3m(\u001b[0m\u001b[3msudo-g5k apt update\u001b[0m\u001b[1;3m)\u001b[0m on \u001b[1m{\u001b[0m\u001b[32m'gros-43.nancy.grid5000.fr'\u001b[0m, \n",
       "\u001b[32m'gros-40.nancy.grid5000.fr'\u001b[0m\u001b[1m}\u001b[0m\n"
      ]
     },
     "metadata": {},
     "output_type": "display_data"
    },
    {
     "data": {
      "text/html": [
       "<pre style=\"white-space:pre;overflow-x:auto;line-height:normal;font-family:Menlo,'DejaVu Sans Mono',consolas,'Courier New',monospace\"><span style=\"color: #00ff00; text-decoration-color: #00ff00\">─────────────────────────────────────────────────────────────────────────────────────────────</span>\n",
       "</pre>\n"
      ],
      "text/plain": [
       "\u001b[92m─────────────────────────────────────────────────────────────────────────────────────────────\u001b[0m\n"
      ]
     },
     "metadata": {},
     "output_type": "display_data"
    },
    {
     "data": {
      "application/vnd.jupyter.widget-view+json": {
       "model_id": "",
       "version_major": 2,
       "version_minor": 0
      },
      "text/plain": [
       "Output()"
      ]
     },
     "metadata": {},
     "output_type": "display_data"
    },
    {
     "data": {
      "text/html": [
       "<pre style=\"white-space:pre;overflow-x:auto;line-height:normal;font-family:Menlo,'DejaVu Sans Mono',consolas,'Courier New',monospace\"></pre>\n"
      ],
      "text/plain": []
     },
     "metadata": {},
     "output_type": "display_data"
    },
    {
     "data": {
      "text/html": [
       "<pre style=\"white-space:pre;overflow-x:auto;line-height:normal;font-family:Menlo,'DejaVu Sans Mono',consolas,'Courier New',monospace\"><span style=\"color: #000080; text-decoration-color: #000080; font-weight: bold\">Finished </span><span style=\"color: #000080; text-decoration-color: #000080; font-weight: bold\">1</span><span style=\"color: #000080; text-decoration-color: #000080; font-weight: bold\"> tasks</span> <span style=\"font-weight: bold; font-style: italic\">(</span><span style=\"font-style: italic\">sudo-g5k apt install -y apt-transport-https ca-certificates curl </span>\n",
       "<span style=\"font-style: italic\">software-properties-common</span><span style=\"font-weight: bold; font-style: italic\">)</span> on <span style=\"font-weight: bold\">{</span><span style=\"color: #008000; text-decoration-color: #008000\">'gros-43.nancy.grid5000.fr'</span>, <span style=\"color: #008000; text-decoration-color: #008000\">'gros-40.nancy.grid5000.fr'</span><span style=\"font-weight: bold\">}</span>\n",
       "</pre>\n"
      ],
      "text/plain": [
       "\u001b[1;34mFinished \u001b[0m\u001b[1;34m1\u001b[0m\u001b[1;34m tasks\u001b[0m \u001b[1;3m(\u001b[0m\u001b[3msudo-g5k apt install -y apt-transport-https ca-certificates curl \u001b[0m\n",
       "\u001b[3msoftware-properties-common\u001b[0m\u001b[1;3m)\u001b[0m on \u001b[1m{\u001b[0m\u001b[32m'gros-43.nancy.grid5000.fr'\u001b[0m, \u001b[32m'gros-40.nancy.grid5000.fr'\u001b[0m\u001b[1m}\u001b[0m\n"
      ]
     },
     "metadata": {},
     "output_type": "display_data"
    },
    {
     "data": {
      "text/html": [
       "<pre style=\"white-space:pre;overflow-x:auto;line-height:normal;font-family:Menlo,'DejaVu Sans Mono',consolas,'Courier New',monospace\"><span style=\"color: #00ff00; text-decoration-color: #00ff00\">─────────────────────────────────────────────────────────────────────────────────────────────</span>\n",
       "</pre>\n"
      ],
      "text/plain": [
       "\u001b[92m─────────────────────────────────────────────────────────────────────────────────────────────\u001b[0m\n"
      ]
     },
     "metadata": {},
     "output_type": "display_data"
    },
    {
     "data": {
      "application/vnd.jupyter.widget-view+json": {
       "model_id": "",
       "version_major": 2,
       "version_minor": 0
      },
      "text/plain": [
       "Output()"
      ]
     },
     "metadata": {},
     "output_type": "display_data"
    },
    {
     "data": {
      "text/html": [
       "<pre style=\"white-space:pre;overflow-x:auto;line-height:normal;font-family:Menlo,'DejaVu Sans Mono',consolas,'Courier New',monospace\"></pre>\n"
      ],
      "text/plain": []
     },
     "metadata": {},
     "output_type": "display_data"
    },
    {
     "data": {
      "text/html": [
       "<pre style=\"white-space:pre;overflow-x:auto;line-height:normal;font-family:Menlo,'DejaVu Sans Mono',consolas,'Courier New',monospace\"><span style=\"color: #000080; text-decoration-color: #000080; font-weight: bold\">Finished </span><span style=\"color: #000080; text-decoration-color: #000080; font-weight: bold\">1</span><span style=\"color: #000080; text-decoration-color: #000080; font-weight: bold\"> tasks</span> <span style=\"font-weight: bold; font-style: italic\">(</span><span style=\"font-style: italic\">curl -fsSL </span><span style=\"color: #0000ff; text-decoration-color: #0000ff; font-style: italic; text-decoration: underline\">https://download.docker.com/linux/debian/gpg</span><span style=\"font-style: italic\"> | sudo-g5k gpg </span>\n",
       "<span style=\"font-style: italic\">--dearmor -o </span><span style=\"color: #800080; text-decoration-color: #800080; font-style: italic\">/usr/share/keyrings/</span><span style=\"color: #ff00ff; text-decoration-color: #ff00ff; font-style: italic\">docker-archive-keyring.gpg</span><span style=\"font-weight: bold; font-style: italic\">)</span> on <span style=\"font-weight: bold\">{</span><span style=\"color: #008000; text-decoration-color: #008000\">'gros-43.nancy.grid5000.fr'</span>,\n",
       "<span style=\"color: #008000; text-decoration-color: #008000\">'gros-40.nancy.grid5000.fr'</span><span style=\"font-weight: bold\">}</span>\n",
       "</pre>\n"
      ],
      "text/plain": [
       "\u001b[1;34mFinished \u001b[0m\u001b[1;34m1\u001b[0m\u001b[1;34m tasks\u001b[0m \u001b[1;3m(\u001b[0m\u001b[3mcurl -fsSL \u001b[0m\u001b[3;4;94mhttps://download.docker.com/linux/debian/gpg\u001b[0m\u001b[3m | sudo-g5k gpg \u001b[0m\n",
       "\u001b[3m--dearmor -o \u001b[0m\u001b[3;35m/usr/share/keyrings/\u001b[0m\u001b[3;95mdocker-archive-keyring.gpg\u001b[0m\u001b[1;3m)\u001b[0m on \u001b[1m{\u001b[0m\u001b[32m'gros-43.nancy.grid5000.fr'\u001b[0m,\n",
       "\u001b[32m'gros-40.nancy.grid5000.fr'\u001b[0m\u001b[1m}\u001b[0m\n"
      ]
     },
     "metadata": {},
     "output_type": "display_data"
    },
    {
     "data": {
      "text/html": [
       "<pre style=\"white-space:pre;overflow-x:auto;line-height:normal;font-family:Menlo,'DejaVu Sans Mono',consolas,'Courier New',monospace\"><span style=\"color: #00ff00; text-decoration-color: #00ff00\">─────────────────────────────────────────────────────────────────────────────────────────────</span>\n",
       "</pre>\n"
      ],
      "text/plain": [
       "\u001b[92m─────────────────────────────────────────────────────────────────────────────────────────────\u001b[0m\n"
      ]
     },
     "metadata": {},
     "output_type": "display_data"
    },
    {
     "data": {
      "application/vnd.jupyter.widget-view+json": {
       "model_id": "",
       "version_major": 2,
       "version_minor": 0
      },
      "text/plain": [
       "Output()"
      ]
     },
     "metadata": {},
     "output_type": "display_data"
    },
    {
     "data": {
      "text/html": [
       "<pre style=\"white-space:pre;overflow-x:auto;line-height:normal;font-family:Menlo,'DejaVu Sans Mono',consolas,'Courier New',monospace\"></pre>\n"
      ],
      "text/plain": []
     },
     "metadata": {},
     "output_type": "display_data"
    },
    {
     "data": {
      "text/html": [
       "<pre style=\"white-space:pre;overflow-x:auto;line-height:normal;font-family:Menlo,'DejaVu Sans Mono',consolas,'Courier New',monospace\"><span style=\"color: #000080; text-decoration-color: #000080; font-weight: bold\">Finished </span><span style=\"color: #000080; text-decoration-color: #000080; font-weight: bold\">1</span><span style=\"color: #000080; text-decoration-color: #000080; font-weight: bold\"> tasks</span> <span style=\"font-weight: bold; font-style: italic\">(</span><span style=\"font-style: italic\">echo </span><span style=\"color: #008000; text-decoration-color: #008000; font-style: italic\">\"deb  https://download.docker.com/linux/debian $(lsb_release -cs) </span>\n",
       "<span style=\"color: #008000; text-decoration-color: #008000; font-style: italic\">stable\"</span><span style=\"font-style: italic\"> | sudo-g5k tee </span><span style=\"color: #800080; text-decoration-color: #800080; font-style: italic\">/etc/apt/sources.list.d/</span><span style=\"color: #ff00ff; text-decoration-color: #ff00ff; font-style: italic\">docker.list</span><span style=\"font-style: italic\"> &gt; </span><span style=\"color: #800080; text-decoration-color: #800080; font-style: italic\">/dev/</span><span style=\"color: #ff00ff; text-decoration-color: #ff00ff; font-style: italic\">null</span><span style=\"font-weight: bold; font-style: italic\">)</span> on \n",
       "<span style=\"font-weight: bold\">{</span><span style=\"color: #008000; text-decoration-color: #008000\">'gros-43.nancy.grid5000.fr'</span>, <span style=\"color: #008000; text-decoration-color: #008000\">'gros-40.nancy.grid5000.fr'</span><span style=\"font-weight: bold\">}</span>\n",
       "</pre>\n"
      ],
      "text/plain": [
       "\u001b[1;34mFinished \u001b[0m\u001b[1;34m1\u001b[0m\u001b[1;34m tasks\u001b[0m \u001b[1;3m(\u001b[0m\u001b[3mecho \u001b[0m\u001b[3;32m\"deb \u001b[0m\u001b[3;32m https://download.docker.com/linux/debian $\u001b[0m\u001b[3;32m(\u001b[0m\u001b[3;32mlsb_release -cs\u001b[0m\u001b[3;32m)\u001b[0m\u001b[3;32m \u001b[0m\n",
       "\u001b[3;32mstable\"\u001b[0m\u001b[3m | sudo-g5k tee \u001b[0m\u001b[3;35m/etc/apt/sources.list.d/\u001b[0m\u001b[3;95mdocker.list\u001b[0m\u001b[3m > \u001b[0m\u001b[3;35m/dev/\u001b[0m\u001b[3;95mnull\u001b[0m\u001b[1;3m)\u001b[0m on \n",
       "\u001b[1m{\u001b[0m\u001b[32m'gros-43.nancy.grid5000.fr'\u001b[0m, \u001b[32m'gros-40.nancy.grid5000.fr'\u001b[0m\u001b[1m}\u001b[0m\n"
      ]
     },
     "metadata": {},
     "output_type": "display_data"
    },
    {
     "data": {
      "text/html": [
       "<pre style=\"white-space:pre;overflow-x:auto;line-height:normal;font-family:Menlo,'DejaVu Sans Mono',consolas,'Courier New',monospace\"><span style=\"color: #00ff00; text-decoration-color: #00ff00\">─────────────────────────────────────────────────────────────────────────────────────────────</span>\n",
       "</pre>\n"
      ],
      "text/plain": [
       "\u001b[92m─────────────────────────────────────────────────────────────────────────────────────────────\u001b[0m\n"
      ]
     },
     "metadata": {},
     "output_type": "display_data"
    },
    {
     "data": {
      "application/vnd.jupyter.widget-view+json": {
       "model_id": "",
       "version_major": 2,
       "version_minor": 0
      },
      "text/plain": [
       "Output()"
      ]
     },
     "metadata": {},
     "output_type": "display_data"
    },
    {
     "data": {
      "text/html": [
       "<pre style=\"white-space:pre;overflow-x:auto;line-height:normal;font-family:Menlo,'DejaVu Sans Mono',consolas,'Courier New',monospace\"></pre>\n"
      ],
      "text/plain": []
     },
     "metadata": {},
     "output_type": "display_data"
    },
    {
     "data": {
      "text/html": [
       "<pre style=\"white-space:pre;overflow-x:auto;line-height:normal;font-family:Menlo,'DejaVu Sans Mono',consolas,'Courier New',monospace\"><span style=\"color: #000080; text-decoration-color: #000080; font-weight: bold\">Finished </span><span style=\"color: #000080; text-decoration-color: #000080; font-weight: bold\">1</span><span style=\"color: #000080; text-decoration-color: #000080; font-weight: bold\"> tasks</span> <span style=\"font-weight: bold; font-style: italic\">(</span><span style=\"font-style: italic\">sudo-g5k apt update</span><span style=\"font-weight: bold; font-style: italic\">)</span> on <span style=\"font-weight: bold\">{</span><span style=\"color: #008000; text-decoration-color: #008000\">'gros-43.nancy.grid5000.fr'</span>, \n",
       "<span style=\"color: #008000; text-decoration-color: #008000\">'gros-40.nancy.grid5000.fr'</span><span style=\"font-weight: bold\">}</span>\n",
       "</pre>\n"
      ],
      "text/plain": [
       "\u001b[1;34mFinished \u001b[0m\u001b[1;34m1\u001b[0m\u001b[1;34m tasks\u001b[0m \u001b[1;3m(\u001b[0m\u001b[3msudo-g5k apt update\u001b[0m\u001b[1;3m)\u001b[0m on \u001b[1m{\u001b[0m\u001b[32m'gros-43.nancy.grid5000.fr'\u001b[0m, \n",
       "\u001b[32m'gros-40.nancy.grid5000.fr'\u001b[0m\u001b[1m}\u001b[0m\n"
      ]
     },
     "metadata": {},
     "output_type": "display_data"
    },
    {
     "data": {
      "text/html": [
       "<pre style=\"white-space:pre;overflow-x:auto;line-height:normal;font-family:Menlo,'DejaVu Sans Mono',consolas,'Courier New',monospace\"><span style=\"color: #00ff00; text-decoration-color: #00ff00\">─────────────────────────────────────────────────────────────────────────────────────────────</span>\n",
       "</pre>\n"
      ],
      "text/plain": [
       "\u001b[92m─────────────────────────────────────────────────────────────────────────────────────────────\u001b[0m\n"
      ]
     },
     "metadata": {},
     "output_type": "display_data"
    },
    {
     "data": {
      "application/vnd.jupyter.widget-view+json": {
       "model_id": "",
       "version_major": 2,
       "version_minor": 0
      },
      "text/plain": [
       "Output()"
      ]
     },
     "metadata": {},
     "output_type": "display_data"
    },
    {
     "data": {
      "text/html": [
       "<pre style=\"white-space:pre;overflow-x:auto;line-height:normal;font-family:Menlo,'DejaVu Sans Mono',consolas,'Courier New',monospace\"></pre>\n"
      ],
      "text/plain": []
     },
     "metadata": {},
     "output_type": "display_data"
    },
    {
     "data": {
      "text/html": [
       "<pre style=\"white-space:pre;overflow-x:auto;line-height:normal;font-family:Menlo,'DejaVu Sans Mono',consolas,'Courier New',monospace\"><span style=\"color: #000080; text-decoration-color: #000080; font-weight: bold\">Finished </span><span style=\"color: #000080; text-decoration-color: #000080; font-weight: bold\">1</span><span style=\"color: #000080; text-decoration-color: #000080; font-weight: bold\"> tasks</span> <span style=\"font-weight: bold; font-style: italic\">(</span><span style=\"font-style: italic\">apt-cache policy docker-ce</span><span style=\"font-weight: bold; font-style: italic\">)</span> on <span style=\"font-weight: bold\">{</span><span style=\"color: #008000; text-decoration-color: #008000\">'gros-43.nancy.grid5000.fr'</span>, \n",
       "<span style=\"color: #008000; text-decoration-color: #008000\">'gros-40.nancy.grid5000.fr'</span><span style=\"font-weight: bold\">}</span>\n",
       "</pre>\n"
      ],
      "text/plain": [
       "\u001b[1;34mFinished \u001b[0m\u001b[1;34m1\u001b[0m\u001b[1;34m tasks\u001b[0m \u001b[1;3m(\u001b[0m\u001b[3mapt-cache policy docker-ce\u001b[0m\u001b[1;3m)\u001b[0m on \u001b[1m{\u001b[0m\u001b[32m'gros-43.nancy.grid5000.fr'\u001b[0m, \n",
       "\u001b[32m'gros-40.nancy.grid5000.fr'\u001b[0m\u001b[1m}\u001b[0m\n"
      ]
     },
     "metadata": {},
     "output_type": "display_data"
    },
    {
     "data": {
      "text/html": [
       "<pre style=\"white-space:pre;overflow-x:auto;line-height:normal;font-family:Menlo,'DejaVu Sans Mono',consolas,'Courier New',monospace\"><span style=\"color: #00ff00; text-decoration-color: #00ff00\">─────────────────────────────────────────────────────────────────────────────────────────────</span>\n",
       "</pre>\n"
      ],
      "text/plain": [
       "\u001b[92m─────────────────────────────────────────────────────────────────────────────────────────────\u001b[0m\n"
      ]
     },
     "metadata": {},
     "output_type": "display_data"
    },
    {
     "data": {
      "application/vnd.jupyter.widget-view+json": {
       "model_id": "",
       "version_major": 2,
       "version_minor": 0
      },
      "text/plain": [
       "Output()"
      ]
     },
     "metadata": {},
     "output_type": "display_data"
    },
    {
     "data": {
      "text/html": [
       "<pre style=\"white-space:pre;overflow-x:auto;line-height:normal;font-family:Menlo,'DejaVu Sans Mono',consolas,'Courier New',monospace\"></pre>\n"
      ],
      "text/plain": []
     },
     "metadata": {},
     "output_type": "display_data"
    },
    {
     "data": {
      "text/html": [
       "<pre style=\"white-space:pre;overflow-x:auto;line-height:normal;font-family:Menlo,'DejaVu Sans Mono',consolas,'Courier New',monospace\"><span style=\"color: #000080; text-decoration-color: #000080; font-weight: bold\">Finished </span><span style=\"color: #000080; text-decoration-color: #000080; font-weight: bold\">1</span><span style=\"color: #000080; text-decoration-color: #000080; font-weight: bold\"> tasks</span> <span style=\"font-weight: bold; font-style: italic\">(</span><span style=\"font-style: italic\">sudo-g5k apt install -y docker-ce</span><span style=\"font-weight: bold; font-style: italic\">)</span> on <span style=\"font-weight: bold\">{</span><span style=\"color: #008000; text-decoration-color: #008000\">'gros-43.nancy.grid5000.fr'</span>, \n",
       "<span style=\"color: #008000; text-decoration-color: #008000\">'gros-40.nancy.grid5000.fr'</span><span style=\"font-weight: bold\">}</span>\n",
       "</pre>\n"
      ],
      "text/plain": [
       "\u001b[1;34mFinished \u001b[0m\u001b[1;34m1\u001b[0m\u001b[1;34m tasks\u001b[0m \u001b[1;3m(\u001b[0m\u001b[3msudo-g5k apt install -y docker-ce\u001b[0m\u001b[1;3m)\u001b[0m on \u001b[1m{\u001b[0m\u001b[32m'gros-43.nancy.grid5000.fr'\u001b[0m, \n",
       "\u001b[32m'gros-40.nancy.grid5000.fr'\u001b[0m\u001b[1m}\u001b[0m\n"
      ]
     },
     "metadata": {},
     "output_type": "display_data"
    },
    {
     "data": {
      "text/html": [
       "<pre style=\"white-space:pre;overflow-x:auto;line-height:normal;font-family:Menlo,'DejaVu Sans Mono',consolas,'Courier New',monospace\"><span style=\"color: #00ff00; text-decoration-color: #00ff00\">─────────────────────────────────────────────────────────────────────────────────────────────</span>\n",
       "</pre>\n"
      ],
      "text/plain": [
       "\u001b[92m─────────────────────────────────────────────────────────────────────────────────────────────\u001b[0m\n"
      ]
     },
     "metadata": {},
     "output_type": "display_data"
    }
   ],
   "source": [
    "results = en.run_command(\"sudo-g5k apt update\", roles=roles[\"client\"]+roles[\"server\"])\n",
    "results = en.run_command(\"sudo-g5k apt install -y apt-transport-https ca-certificates curl software-properties-common\", roles=roles[\"client\"]+roles[\"server\"])\n",
    "results = en.run_command(\"curl -fsSL https://download.docker.com/linux/debian/gpg | sudo-g5k gpg --dearmor -o /usr/share/keyrings/docker-archive-keyring.gpg\", roles=roles[\"client\"]+roles[\"server\"])\n",
    "results = en.run_command('echo \"deb [arch=$(dpkg --print-architecture) signed-by=/usr/share/keyrings/docker-archive-keyring.gpg] https://download.docker.com/linux/debian $(lsb_release -cs) stable\" | sudo-g5k tee /etc/apt/sources.list.d/docker.list > /dev/null', roles=roles[\"client\"]+roles[\"server\"])\n",
    "results = en.run_command(\"sudo-g5k apt update\", roles=roles[\"client\"]+roles[\"server\"])\n",
    "results = en.run_command(\"apt-cache policy docker-ce\", roles=roles[\"client\"]+roles[\"server\"])\n",
    "results = en.run_command(\"sudo-g5k apt install -y docker-ce\", roles=roles[\"client\"]+roles[\"server\"])\n"
   ]
  },
  {
   "cell_type": "markdown",
   "id": "9e8e72e0",
   "metadata": {},
   "source": [
    "### Bazel"
   ]
  },
  {
   "cell_type": "code",
   "execution_count": 14,
   "id": "eefd5796",
   "metadata": {},
   "outputs": [
    {
     "data": {
      "application/vnd.jupyter.widget-view+json": {
       "model_id": "",
       "version_major": 2,
       "version_minor": 0
      },
      "text/plain": [
       "Output()"
      ]
     },
     "metadata": {},
     "output_type": "display_data"
    },
    {
     "data": {
      "text/html": [
       "<pre style=\"white-space:pre;overflow-x:auto;line-height:normal;font-family:Menlo,'DejaVu Sans Mono',consolas,'Courier New',monospace\"></pre>\n"
      ],
      "text/plain": []
     },
     "metadata": {},
     "output_type": "display_data"
    },
    {
     "data": {
      "text/html": [
       "<pre style=\"white-space:pre;overflow-x:auto;line-height:normal;font-family:Menlo,'DejaVu Sans Mono',consolas,'Courier New',monospace\"><span style=\"color: #000080; text-decoration-color: #000080; font-weight: bold\">Finished </span><span style=\"color: #000080; text-decoration-color: #000080; font-weight: bold\">1</span><span style=\"color: #000080; text-decoration-color: #000080; font-weight: bold\"> tasks</span> <span style=\"font-weight: bold; font-style: italic\">(</span><span style=\"font-style: italic\">sudo-g5k apt install apt-transport-https curl gnupg -y</span><span style=\"font-weight: bold; font-style: italic\">)</span> on \n",
       "<span style=\"font-weight: bold\">{</span><span style=\"color: #008000; text-decoration-color: #008000\">'gros-43.nancy.grid5000.fr'</span>, <span style=\"color: #008000; text-decoration-color: #008000\">'gros-40.nancy.grid5000.fr'</span><span style=\"font-weight: bold\">}</span>\n",
       "</pre>\n"
      ],
      "text/plain": [
       "\u001b[1;34mFinished \u001b[0m\u001b[1;34m1\u001b[0m\u001b[1;34m tasks\u001b[0m \u001b[1;3m(\u001b[0m\u001b[3msudo-g5k apt install apt-transport-https curl gnupg -y\u001b[0m\u001b[1;3m)\u001b[0m on \n",
       "\u001b[1m{\u001b[0m\u001b[32m'gros-43.nancy.grid5000.fr'\u001b[0m, \u001b[32m'gros-40.nancy.grid5000.fr'\u001b[0m\u001b[1m}\u001b[0m\n"
      ]
     },
     "metadata": {},
     "output_type": "display_data"
    },
    {
     "data": {
      "text/html": [
       "<pre style=\"white-space:pre;overflow-x:auto;line-height:normal;font-family:Menlo,'DejaVu Sans Mono',consolas,'Courier New',monospace\"><span style=\"color: #00ff00; text-decoration-color: #00ff00\">─────────────────────────────────────────────────────────────────────────────────────────────</span>\n",
       "</pre>\n"
      ],
      "text/plain": [
       "\u001b[92m─────────────────────────────────────────────────────────────────────────────────────────────\u001b[0m\n"
      ]
     },
     "metadata": {},
     "output_type": "display_data"
    },
    {
     "data": {
      "application/vnd.jupyter.widget-view+json": {
       "model_id": "",
       "version_major": 2,
       "version_minor": 0
      },
      "text/plain": [
       "Output()"
      ]
     },
     "metadata": {},
     "output_type": "display_data"
    },
    {
     "data": {
      "text/html": [
       "<pre style=\"white-space:pre;overflow-x:auto;line-height:normal;font-family:Menlo,'DejaVu Sans Mono',consolas,'Courier New',monospace\"></pre>\n"
      ],
      "text/plain": []
     },
     "metadata": {},
     "output_type": "display_data"
    },
    {
     "data": {
      "text/html": [
       "<pre style=\"white-space:pre;overflow-x:auto;line-height:normal;font-family:Menlo,'DejaVu Sans Mono',consolas,'Courier New',monospace\"><span style=\"color: #000080; text-decoration-color: #000080; font-weight: bold\">Finished </span><span style=\"color: #000080; text-decoration-color: #000080; font-weight: bold\">1</span><span style=\"color: #000080; text-decoration-color: #000080; font-weight: bold\"> tasks</span> <span style=\"font-weight: bold; font-style: italic\">(</span><span style=\"font-style: italic\">curl -fsSL </span><span style=\"color: #0000ff; text-decoration-color: #0000ff; font-style: italic; text-decoration: underline\">https://bazel.build/bazel-release.pub.gpg</span><span style=\"font-style: italic\"> | gpg --dearmor </span>\n",
       "<span style=\"font-style: italic\">&gt;bazel-archive-keyring.gpg</span><span style=\"font-weight: bold; font-style: italic\">)</span> on <span style=\"font-weight: bold\">{</span><span style=\"color: #008000; text-decoration-color: #008000\">'gros-43.nancy.grid5000.fr'</span>, <span style=\"color: #008000; text-decoration-color: #008000\">'gros-40.nancy.grid5000.fr'</span><span style=\"font-weight: bold\">}</span>\n",
       "</pre>\n"
      ],
      "text/plain": [
       "\u001b[1;34mFinished \u001b[0m\u001b[1;34m1\u001b[0m\u001b[1;34m tasks\u001b[0m \u001b[1;3m(\u001b[0m\u001b[3mcurl -fsSL \u001b[0m\u001b[3;4;94mhttps://bazel.build/bazel-release.pub.gpg\u001b[0m\u001b[3m | gpg --dearmor \u001b[0m\n",
       "\u001b[3m>bazel-archive-keyring.gpg\u001b[0m\u001b[1;3m)\u001b[0m on \u001b[1m{\u001b[0m\u001b[32m'gros-43.nancy.grid5000.fr'\u001b[0m, \u001b[32m'gros-40.nancy.grid5000.fr'\u001b[0m\u001b[1m}\u001b[0m\n"
      ]
     },
     "metadata": {},
     "output_type": "display_data"
    },
    {
     "data": {
      "text/html": [
       "<pre style=\"white-space:pre;overflow-x:auto;line-height:normal;font-family:Menlo,'DejaVu Sans Mono',consolas,'Courier New',monospace\"><span style=\"color: #00ff00; text-decoration-color: #00ff00\">─────────────────────────────────────────────────────────────────────────────────────────────</span>\n",
       "</pre>\n"
      ],
      "text/plain": [
       "\u001b[92m─────────────────────────────────────────────────────────────────────────────────────────────\u001b[0m\n"
      ]
     },
     "metadata": {},
     "output_type": "display_data"
    },
    {
     "data": {
      "application/vnd.jupyter.widget-view+json": {
       "model_id": "",
       "version_major": 2,
       "version_minor": 0
      },
      "text/plain": [
       "Output()"
      ]
     },
     "metadata": {},
     "output_type": "display_data"
    },
    {
     "data": {
      "text/html": [
       "<pre style=\"white-space:pre;overflow-x:auto;line-height:normal;font-family:Menlo,'DejaVu Sans Mono',consolas,'Courier New',monospace\"></pre>\n"
      ],
      "text/plain": []
     },
     "metadata": {},
     "output_type": "display_data"
    },
    {
     "data": {
      "text/html": [
       "<pre style=\"white-space:pre;overflow-x:auto;line-height:normal;font-family:Menlo,'DejaVu Sans Mono',consolas,'Courier New',monospace\"><span style=\"color: #000080; text-decoration-color: #000080; font-weight: bold\">Finished </span><span style=\"color: #000080; text-decoration-color: #000080; font-weight: bold\">1</span><span style=\"color: #000080; text-decoration-color: #000080; font-weight: bold\"> tasks</span> <span style=\"font-weight: bold; font-style: italic\">(</span><span style=\"font-style: italic\">sudo-g5k mv bazel-archive-keyring.gpg </span><span style=\"color: #800080; text-decoration-color: #800080; font-style: italic\">/usr/share/</span><span style=\"color: #ff00ff; text-decoration-color: #ff00ff; font-style: italic\">keyrings</span><span style=\"font-weight: bold; font-style: italic\">)</span> on \n",
       "<span style=\"font-weight: bold\">{</span><span style=\"color: #008000; text-decoration-color: #008000\">'gros-43.nancy.grid5000.fr'</span>, <span style=\"color: #008000; text-decoration-color: #008000\">'gros-40.nancy.grid5000.fr'</span><span style=\"font-weight: bold\">}</span>\n",
       "</pre>\n"
      ],
      "text/plain": [
       "\u001b[1;34mFinished \u001b[0m\u001b[1;34m1\u001b[0m\u001b[1;34m tasks\u001b[0m \u001b[1;3m(\u001b[0m\u001b[3msudo-g5k mv bazel-archive-keyring.gpg \u001b[0m\u001b[3;35m/usr/share/\u001b[0m\u001b[3;95mkeyrings\u001b[0m\u001b[1;3m)\u001b[0m on \n",
       "\u001b[1m{\u001b[0m\u001b[32m'gros-43.nancy.grid5000.fr'\u001b[0m, \u001b[32m'gros-40.nancy.grid5000.fr'\u001b[0m\u001b[1m}\u001b[0m\n"
      ]
     },
     "metadata": {},
     "output_type": "display_data"
    },
    {
     "data": {
      "text/html": [
       "<pre style=\"white-space:pre;overflow-x:auto;line-height:normal;font-family:Menlo,'DejaVu Sans Mono',consolas,'Courier New',monospace\"><span style=\"color: #00ff00; text-decoration-color: #00ff00\">─────────────────────────────────────────────────────────────────────────────────────────────</span>\n",
       "</pre>\n"
      ],
      "text/plain": [
       "\u001b[92m─────────────────────────────────────────────────────────────────────────────────────────────\u001b[0m\n"
      ]
     },
     "metadata": {},
     "output_type": "display_data"
    },
    {
     "data": {
      "application/vnd.jupyter.widget-view+json": {
       "model_id": "",
       "version_major": 2,
       "version_minor": 0
      },
      "text/plain": [
       "Output()"
      ]
     },
     "metadata": {},
     "output_type": "display_data"
    },
    {
     "data": {
      "text/html": [
       "<pre style=\"white-space:pre;overflow-x:auto;line-height:normal;font-family:Menlo,'DejaVu Sans Mono',consolas,'Courier New',monospace\"></pre>\n"
      ],
      "text/plain": []
     },
     "metadata": {},
     "output_type": "display_data"
    },
    {
     "data": {
      "text/html": [
       "<pre style=\"white-space:pre;overflow-x:auto;line-height:normal;font-family:Menlo,'DejaVu Sans Mono',consolas,'Courier New',monospace\"><span style=\"color: #000080; text-decoration-color: #000080; font-weight: bold\">Finished </span><span style=\"color: #000080; text-decoration-color: #000080; font-weight: bold\">1</span><span style=\"color: #000080; text-decoration-color: #000080; font-weight: bold\"> tasks</span> <span style=\"font-weight: bold; font-style: italic\">(</span><span style=\"font-style: italic\">echo </span><span style=\"color: #008000; text-decoration-color: #008000; font-style: italic\">\"deb  https://storage.googleapis.com/bazel-apt stable jdk1.8\"</span><span style=\"font-style: italic\"> | </span>\n",
       "<span style=\"font-style: italic\">sudo-g5k tee </span><span style=\"color: #800080; text-decoration-color: #800080; font-style: italic\">/etc/apt/sources.list.d/</span><span style=\"color: #ff00ff; text-decoration-color: #ff00ff; font-style: italic\">bazel.list</span><span style=\"font-weight: bold; font-style: italic\">)</span> on <span style=\"font-weight: bold\">{</span><span style=\"color: #008000; text-decoration-color: #008000\">'gros-43.nancy.grid5000.fr'</span>, \n",
       "<span style=\"color: #008000; text-decoration-color: #008000\">'gros-40.nancy.grid5000.fr'</span><span style=\"font-weight: bold\">}</span>\n",
       "</pre>\n"
      ],
      "text/plain": [
       "\u001b[1;34mFinished \u001b[0m\u001b[1;34m1\u001b[0m\u001b[1;34m tasks\u001b[0m \u001b[1;3m(\u001b[0m\u001b[3mecho \u001b[0m\u001b[3;32m\"deb \u001b[0m\u001b[3;32m https://storage.googleapis.com/bazel-apt stable jdk1.8\"\u001b[0m\u001b[3m | \u001b[0m\n",
       "\u001b[3msudo-g5k tee \u001b[0m\u001b[3;35m/etc/apt/sources.list.d/\u001b[0m\u001b[3;95mbazel.list\u001b[0m\u001b[1;3m)\u001b[0m on \u001b[1m{\u001b[0m\u001b[32m'gros-43.nancy.grid5000.fr'\u001b[0m, \n",
       "\u001b[32m'gros-40.nancy.grid5000.fr'\u001b[0m\u001b[1m}\u001b[0m\n"
      ]
     },
     "metadata": {},
     "output_type": "display_data"
    },
    {
     "data": {
      "text/html": [
       "<pre style=\"white-space:pre;overflow-x:auto;line-height:normal;font-family:Menlo,'DejaVu Sans Mono',consolas,'Courier New',monospace\"><span style=\"color: #00ff00; text-decoration-color: #00ff00\">─────────────────────────────────────────────────────────────────────────────────────────────</span>\n",
       "</pre>\n"
      ],
      "text/plain": [
       "\u001b[92m─────────────────────────────────────────────────────────────────────────────────────────────\u001b[0m\n"
      ]
     },
     "metadata": {},
     "output_type": "display_data"
    },
    {
     "data": {
      "application/vnd.jupyter.widget-view+json": {
       "model_id": "",
       "version_major": 2,
       "version_minor": 0
      },
      "text/plain": [
       "Output()"
      ]
     },
     "metadata": {},
     "output_type": "display_data"
    },
    {
     "data": {
      "text/html": [
       "<pre style=\"white-space:pre;overflow-x:auto;line-height:normal;font-family:Menlo,'DejaVu Sans Mono',consolas,'Courier New',monospace\"></pre>\n"
      ],
      "text/plain": []
     },
     "metadata": {},
     "output_type": "display_data"
    },
    {
     "data": {
      "text/html": [
       "<pre style=\"white-space:pre;overflow-x:auto;line-height:normal;font-family:Menlo,'DejaVu Sans Mono',consolas,'Courier New',monospace\"><span style=\"color: #000080; text-decoration-color: #000080; font-weight: bold\">Finished </span><span style=\"color: #000080; text-decoration-color: #000080; font-weight: bold\">1</span><span style=\"color: #000080; text-decoration-color: #000080; font-weight: bold\"> tasks</span> <span style=\"font-weight: bold; font-style: italic\">(</span><span style=\"font-style: italic\">sudo-g5k apt update &amp;&amp; sudo-g5k apt install -y bazel</span><span style=\"font-weight: bold; font-style: italic\">)</span> on \n",
       "<span style=\"font-weight: bold\">{</span><span style=\"color: #008000; text-decoration-color: #008000\">'gros-43.nancy.grid5000.fr'</span>, <span style=\"color: #008000; text-decoration-color: #008000\">'gros-40.nancy.grid5000.fr'</span><span style=\"font-weight: bold\">}</span>\n",
       "</pre>\n"
      ],
      "text/plain": [
       "\u001b[1;34mFinished \u001b[0m\u001b[1;34m1\u001b[0m\u001b[1;34m tasks\u001b[0m \u001b[1;3m(\u001b[0m\u001b[3msudo-g5k apt update && sudo-g5k apt install -y bazel\u001b[0m\u001b[1;3m)\u001b[0m on \n",
       "\u001b[1m{\u001b[0m\u001b[32m'gros-43.nancy.grid5000.fr'\u001b[0m, \u001b[32m'gros-40.nancy.grid5000.fr'\u001b[0m\u001b[1m}\u001b[0m\n"
      ]
     },
     "metadata": {},
     "output_type": "display_data"
    },
    {
     "data": {
      "text/html": [
       "<pre style=\"white-space:pre;overflow-x:auto;line-height:normal;font-family:Menlo,'DejaVu Sans Mono',consolas,'Courier New',monospace\"><span style=\"color: #00ff00; text-decoration-color: #00ff00\">─────────────────────────────────────────────────────────────────────────────────────────────</span>\n",
       "</pre>\n"
      ],
      "text/plain": [
       "\u001b[92m─────────────────────────────────────────────────────────────────────────────────────────────\u001b[0m\n"
      ]
     },
     "metadata": {},
     "output_type": "display_data"
    }
   ],
   "source": [
    "results = en.run_command(\"sudo-g5k apt install apt-transport-https curl gnupg -y\", roles=roles[\"client\"]+roles[\"server\"])\n",
    "results = en.run_command(\"curl -fsSL https://bazel.build/bazel-release.pub.gpg | gpg --dearmor >bazel-archive-keyring.gpg\", roles=roles[\"client\"]+roles[\"server\"])\n",
    "results = en.run_command(\"sudo-g5k mv bazel-archive-keyring.gpg /usr/share/keyrings\", roles=roles[\"client\"]+roles[\"server\"])\n",
    "results = en.run_command('echo \"deb [arch=amd64 signed-by=/usr/share/keyrings/bazel-archive-keyring.gpg] https://storage.googleapis.com/bazel-apt stable jdk1.8\" | sudo-g5k tee /etc/apt/sources.list.d/bazel.list', roles=roles[\"client\"]+roles[\"server\"])\n",
    "results = en.run_command(\"sudo-g5k apt update && sudo-g5k apt install -y bazel\", roles=roles[\"client\"]+roles[\"server\"])\n",
    "#results = en.run_command(\"sudo-g5k apt update && sudo-g5k apt full-upgrade -y\", roles=roles[\"client\"])"
   ]
  },
  {
   "cell_type": "markdown",
   "id": "c735e460",
   "metadata": {},
   "source": [
    "### Envoy - FIRST TIME"
   ]
  },
  {
   "cell_type": "code",
   "execution_count": 6,
   "id": "b4de4128",
   "metadata": {},
   "outputs": [
    {
     "data": {
      "application/vnd.jupyter.widget-view+json": {
       "model_id": "",
       "version_major": 2,
       "version_minor": 0
      },
      "text/plain": [
       "Output()"
      ]
     },
     "metadata": {},
     "output_type": "display_data"
    },
    {
     "data": {
      "text/html": [
       "<pre style=\"white-space:pre;overflow-x:auto;line-height:normal;font-family:Menlo,'DejaVu Sans Mono',consolas,'Courier New',monospace\"></pre>\n"
      ],
      "text/plain": []
     },
     "metadata": {},
     "output_type": "display_data"
    },
    {
     "data": {
      "text/html": [
       "<pre style=\"white-space:pre;overflow-x:auto;line-height:normal;font-family:Menlo,'DejaVu Sans Mono',consolas,'Courier New',monospace\"><span style=\"color: #000080; text-decoration-color: #000080; font-weight: bold\">Finished </span><span style=\"color: #000080; text-decoration-color: #000080; font-weight: bold\">1</span><span style=\"color: #000080; text-decoration-color: #000080; font-weight: bold\"> tasks</span> <span style=\"font-weight: bold; font-style: italic\">(</span><span style=\"font-style: italic\">cd </span><span style=\"color: #800080; text-decoration-color: #800080; font-style: italic\">/home/</span><span style=\"color: #ff00ff; text-decoration-color: #ff00ff; font-style: italic\">agiot</span><span style=\"font-style: italic\"> &amp;&amp; git clone </span><span style=\"color: #0000ff; text-decoration-color: #0000ff; font-style: italic; text-decoration: underline\">https://github.com/adribr53/envoy)</span> on \n",
       "<span style=\"font-weight: bold\">{</span><span style=\"color: #008000; text-decoration-color: #008000\">'gros-11.nancy.grid5000.fr'</span><span style=\"font-weight: bold\">}</span>\n",
       "</pre>\n"
      ],
      "text/plain": [
       "\u001b[1;34mFinished \u001b[0m\u001b[1;34m1\u001b[0m\u001b[1;34m tasks\u001b[0m \u001b[1;3m(\u001b[0m\u001b[3mcd \u001b[0m\u001b[3;35m/home/\u001b[0m\u001b[3;95magiot\u001b[0m\u001b[3m && git clone \u001b[0m\u001b[3;4;94mhttps://github.com/adribr53/envoy\u001b[0m\u001b[3;4;94m)\u001b[0m on \n",
       "\u001b[1m{\u001b[0m\u001b[32m'gros-11.nancy.grid5000.fr'\u001b[0m\u001b[1m}\u001b[0m\n"
      ]
     },
     "metadata": {},
     "output_type": "display_data"
    },
    {
     "data": {
      "text/html": [
       "<pre style=\"white-space:pre;overflow-x:auto;line-height:normal;font-family:Menlo,'DejaVu Sans Mono',consolas,'Courier New',monospace\"><span style=\"color: #00ff00; text-decoration-color: #00ff00\">─────────────────────────────────────────────────────────────────────────────────────────────</span>\n",
       "</pre>\n"
      ],
      "text/plain": [
       "\u001b[92m─────────────────────────────────────────────────────────────────────────────────────────────\u001b[0m\n"
      ]
     },
     "metadata": {},
     "output_type": "display_data"
    },
    {
     "data": {
      "application/vnd.jupyter.widget-view+json": {
       "model_id": "",
       "version_major": 2,
       "version_minor": 0
      },
      "text/plain": [
       "Output()"
      ]
     },
     "metadata": {},
     "output_type": "display_data"
    },
    {
     "data": {
      "text/html": [
       "<pre style=\"white-space:pre;overflow-x:auto;line-height:normal;font-family:Menlo,'DejaVu Sans Mono',consolas,'Courier New',monospace\"></pre>\n"
      ],
      "text/plain": []
     },
     "metadata": {},
     "output_type": "display_data"
    },
    {
     "data": {
      "text/html": [
       "<pre style=\"white-space:pre;overflow-x:auto;line-height:normal;font-family:Menlo,'DejaVu Sans Mono',consolas,'Courier New',monospace\"><span style=\"color: #000080; text-decoration-color: #000080; font-weight: bold\">Finished </span><span style=\"color: #000080; text-decoration-color: #000080; font-weight: bold\">1</span><span style=\"color: #000080; text-decoration-color: #000080; font-weight: bold\"> tasks</span> <span style=\"font-weight: bold; font-style: italic\">(</span><span style=\"font-style: italic\">cd </span><span style=\"color: #800080; text-decoration-color: #800080; font-style: italic\">/home/agiot/</span><span style=\"color: #ff00ff; text-decoration-color: #ff00ff; font-style: italic\">envoy</span><span style=\"font-style: italic\"> &amp;&amp; .</span><span style=\"color: #800080; text-decoration-color: #800080; font-style: italic\">/ci/</span><span style=\"color: #ff00ff; text-decoration-color: #ff00ff; font-style: italic\">run_envoy_docker.sh</span><span style=\"font-style: italic\"> </span><span style=\"color: #008000; text-decoration-color: #008000; font-style: italic\">'./ci/do_ci.sh </span>\n",
       "<span style=\"color: #008000; text-decoration-color: #008000; font-style: italic\">bazel.release.server_only'</span><span style=\"font-weight: bold; font-style: italic\">)</span> on <span style=\"font-weight: bold\">{</span><span style=\"color: #008000; text-decoration-color: #008000\">'gros-11.nancy.grid5000.fr'</span><span style=\"font-weight: bold\">}</span>\n",
       "</pre>\n"
      ],
      "text/plain": [
       "\u001b[1;34mFinished \u001b[0m\u001b[1;34m1\u001b[0m\u001b[1;34m tasks\u001b[0m \u001b[1;3m(\u001b[0m\u001b[3mcd \u001b[0m\u001b[3;35m/home/agiot/\u001b[0m\u001b[3;95menvoy\u001b[0m\u001b[3m && .\u001b[0m\u001b[3;35m/ci/\u001b[0m\u001b[3;95mrun_envoy_docker.sh\u001b[0m\u001b[3m \u001b[0m\u001b[3;32m'./ci/do_ci.sh \u001b[0m\n",
       "\u001b[3;32mbazel.release.server_only'\u001b[0m\u001b[1;3m)\u001b[0m on \u001b[1m{\u001b[0m\u001b[32m'gros-11.nancy.grid5000.fr'\u001b[0m\u001b[1m}\u001b[0m\n"
      ]
     },
     "metadata": {},
     "output_type": "display_data"
    },
    {
     "data": {
      "text/html": [
       "<pre style=\"white-space:pre;overflow-x:auto;line-height:normal;font-family:Menlo,'DejaVu Sans Mono',consolas,'Courier New',monospace\"><span style=\"color: #00ff00; text-decoration-color: #00ff00\">─────────────────────────────────────────────────────────────────────────────────────────────</span>\n",
       "</pre>\n"
      ],
      "text/plain": [
       "\u001b[92m─────────────────────────────────────────────────────────────────────────────────────────────\u001b[0m\n"
      ]
     },
     "metadata": {},
     "output_type": "display_data"
    }
   ],
   "source": [
    "results = en.run_command(\"cd /home/agiot && git clone https://github.com/adribr53/envoy\", roles=roles[\"client\"])\n",
    "results = en.run_command(\"cd /home/agiot/envoy && ./ci/run_envoy_docker.sh './ci/do_ci.sh bazel.release.server_only'\", roles=roles[\"client\"])\n",
    "#results = en.run_command(\"./ci/run_envoy_docker.sh './ci/do_ci.sh bazel.release.server_only'\", roles=roles[\"server\"], background=True)\n",
    "#results = en.run_command(\"cp -r /tmp/envoy-docker-build/ /home/agiot/\", roles=roles[\"client\"])\n",
    "# copy /root/envoy to /home/agiot"
   ]
  },
  {
   "cell_type": "markdown",
   "id": "64dad05b",
   "metadata": {},
   "source": [
    "### Envoy - Save build"
   ]
  },
  {
   "cell_type": "code",
   "execution_count": null,
   "id": "9235fbb4",
   "metadata": {},
   "outputs": [],
   "source": [
    "results = en.run_command(\"cd /tmp && tar -czvf envoy-docker-build.tar.gz envoy-docker-build/\", roles=roles[\"client\"])\n",
    "results = en.run_command(\"scp -r /tmp/envoy-docker-build.tar.gz rdma-vm:.g5k\", roles=roles[\"client\"])"
   ]
  },
  {
   "cell_type": "markdown",
   "id": "3c2f94cf",
   "metadata": {},
   "source": [
    "### Envoy - Get build back"
   ]
  },
  {
   "cell_type": "code",
   "execution_count": null,
   "id": "8c6038eb",
   "metadata": {},
   "outputs": [],
   "source": [
    "results = en.run_command(\"scp -r rdma-vm:./g5k/envoy-docker-build.tar.gz /tmp\", roles=roles[\"client\"]+roles[\"server\"])\n",
    "results = en.run_command(\"cd /tmp && sudo-g5k tar -xzvf envoy-docker-build.tar.gz\", roles=roles[\"client\"]+roles[\"server\"])\n",
    "results = en.run_command(\"cd /tmp && sudo chown -R root:docker envoy-docker-build && sudo chmod 755 -R envoy-docker-build\", roles=roles[\"client\"]+roles[\"server\"])"
   ]
  },
  {
   "cell_type": "markdown",
   "id": "78def491",
   "metadata": {},
   "source": [
    "### Envoy - FOLLOWING TIMES"
   ]
  },
  {
   "cell_type": "code",
   "execution_count": 8,
   "id": "e6e20ad6",
   "metadata": {},
   "outputs": [
    {
     "data": {
      "text/html": [
       "<pre style=\"white-space:pre;overflow-x:auto;line-height:normal;font-family:Menlo,'DejaVu Sans Mono',consolas,'Courier New',monospace\"><span style=\"color: #008000; text-decoration-color: #008000\">⠙</span> <span style=\"color: #000080; text-decoration-color: #000080; font-weight: bold\">Running</span> <span style=\"color: #800080; text-decoration-color: #800080\">curl -fsSL https://download.docker.com/linux/debian/gpg | sudo-g5k gpg --dearmor -o</span>\n",
       "<span style=\"color: #800080; text-decoration-color: #800080\">/usr/share/keyrings/docker-archive-keyring.gpg</span> on uvb-6.sophia.grid5000.fr \n",
       "<span style=\"color: #008000; text-decoration-color: #008000\">uvb-9.sophia.grid5000.fr</span>\n",
       "</pre>\n"
      ],
      "text/plain": [
       "\u001b[32m⠙\u001b[0m \u001b[1;34mRunning\u001b[0m \u001b[35mcurl -fsSL https://download.docker.com/linux/debian/gpg | sudo-g5k gpg --dearmor -o\u001b[0m\n",
       "\u001b[35m/usr/share/keyrings/docker-archive-keyring.gpg\u001b[0m on uvb-6.sophia.grid5000.fr \n",
       "\u001b[32muvb-9.sophia.grid5000.fr\u001b[0m\n"
      ]
     },
     "metadata": {},
     "output_type": "display_data"
    },
    {
     "data": {
      "text/html": [
       "<pre style=\"white-space:pre;overflow-x:auto;line-height:normal;font-family:Menlo,'DejaVu Sans Mono',consolas,'Courier New',monospace\"></pre>\n"
      ],
      "text/plain": []
     },
     "metadata": {},
     "output_type": "display_data"
    },
    {
     "data": {
      "text/html": [
       "<pre style=\"white-space:pre;overflow-x:auto;line-height:normal;font-family:Menlo,'DejaVu Sans Mono',consolas,'Courier New',monospace\"><span style=\"color: #000080; text-decoration-color: #000080; font-weight: bold\">Finished </span><span style=\"color: #000080; text-decoration-color: #000080; font-weight: bold\">1</span><span style=\"color: #000080; text-decoration-color: #000080; font-weight: bold\"> tasks</span> <span style=\"font-weight: bold; font-style: italic\">(</span><span style=\"font-style: italic\">sudo-g5k cp -r </span><span style=\"color: #800080; text-decoration-color: #800080; font-style: italic\">/home/agiot/envoy-docker-build/</span><span style=\"font-style: italic\"> </span><span style=\"color: #800080; text-decoration-color: #800080; font-style: italic\">/</span><span style=\"color: #ff00ff; text-decoration-color: #ff00ff; font-style: italic\">tmp</span><span style=\"font-weight: bold; font-style: italic\">)</span> on \n",
       "<span style=\"font-weight: bold\">{</span><span style=\"color: #008000; text-decoration-color: #008000\">'uvb-9.sophia.grid5000.fr'</span>, <span style=\"color: #008000; text-decoration-color: #008000\">'uvb-6.sophia.grid5000.fr'</span><span style=\"font-weight: bold\">}</span>\n",
       "</pre>\n"
      ],
      "text/plain": [
       "\u001b[1;34mFinished \u001b[0m\u001b[1;34m1\u001b[0m\u001b[1;34m tasks\u001b[0m \u001b[1;3m(\u001b[0m\u001b[3msudo-g5k cp -r \u001b[0m\u001b[3;35m/home/agiot/envoy-docker-build/\u001b[0m\u001b[3m \u001b[0m\u001b[3;35m/\u001b[0m\u001b[3;95mtmp\u001b[0m\u001b[1;3m)\u001b[0m on \n",
       "\u001b[1m{\u001b[0m\u001b[32m'uvb-9.sophia.grid5000.fr'\u001b[0m, \u001b[32m'uvb-6.sophia.grid5000.fr'\u001b[0m\u001b[1m}\u001b[0m\n"
      ]
     },
     "metadata": {},
     "output_type": "display_data"
    },
    {
     "data": {
      "text/html": [
       "<pre style=\"white-space:pre;overflow-x:auto;line-height:normal;font-family:Menlo,'DejaVu Sans Mono',consolas,'Courier New',monospace\"><span style=\"color: #00ff00; text-decoration-color: #00ff00\">─────────────────────────────────────────────────────────────────────────────────────────────</span>\n",
       "</pre>\n"
      ],
      "text/plain": [
       "\u001b[92m─────────────────────────────────────────────────────────────────────────────────────────────\u001b[0m\n"
      ]
     },
     "metadata": {},
     "output_type": "display_data"
    }
   ],
   "source": [
    "results = en.run_command(\"sudo-g5k cp -r /home/agiot/envoy-docker-build/ /tmp\", roles=roles[\"client\"]+roles[\"server\"])\n"
   ]
  },
  {
   "cell_type": "markdown",
   "id": "592fbbba",
   "metadata": {},
   "source": [
    "### Destroy"
   ]
  },
  {
   "cell_type": "code",
   "execution_count": 10,
   "id": "5a6b94d6",
   "metadata": {},
   "outputs": [],
   "source": [
    "provider.destroy()\n"
   ]
  }
 ],
 "metadata": {
  "kernelspec": {
   "display_name": "env39",
   "language": "python",
   "name": "env39"
  },
  "language_info": {
   "codemirror_mode": {
    "name": "ipython",
    "version": 3
   },
   "file_extension": ".py",
   "mimetype": "text/x-python",
   "name": "python",
   "nbconvert_exporter": "python",
   "pygments_lexer": "ipython3",
   "version": "3.9.6"
  }
 },
 "nbformat": 4,
 "nbformat_minor": 5
}
