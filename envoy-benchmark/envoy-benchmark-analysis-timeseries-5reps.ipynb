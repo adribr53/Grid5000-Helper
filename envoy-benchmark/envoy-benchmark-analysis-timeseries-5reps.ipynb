{
 "cells": [
  {
   "cell_type": "code",
   "execution_count": null,
   "metadata": {},
   "outputs": [],
   "source": [
    "import json\n",
    "import pandas as pd\n",
    "import time\n",
    "import numpy as np"
   ]
  },
  {
   "attachments": {},
   "cell_type": "markdown",
   "metadata": {},
   "source": [
    "### Utils"
   ]
  },
  {
   "cell_type": "code",
   "execution_count": null,
   "metadata": {},
   "outputs": [],
   "source": [
    "n_runs = 5\n",
    "def average_over_runs(basename):    \n",
    "    with open(basename+\"_0\", 'r') as file:\n",
    "        result =  json.load(file)\n",
    "        duration = result['configuration']['test_time']        \n",
    "    p50_00_latency = [[] for _ in range(duration)]\n",
    "    p99_00_latency = [[] for _ in range(duration)]\n",
    "    p99_90_latency = [[] for _ in range(duration)]\n",
    "    for i in range(n_runs):\n",
    "        curname = basename + '_' + str(i)\n",
    "        with open(curname, 'r') as file:\n",
    "            result =  json.load(file)\n",
    "            cur_time_series = result['ALL STATS']['Totals']['Time-Serie']\n",
    "            for t in range(duration):\n",
    "                p50_00_latency[t].append(cur_time_series[str(t)][\"p50.00\"])\n",
    "                p99_00_latency[t].append(cur_time_series[str(t)][\"p99.00\"])\n",
    "                p99_90_latency[t].append(cur_time_series[str(t)][\"p99.90\"])\n",
    "    \n",
    "    p50_00_latency_std = []\n",
    "    p99_00_latency_std = []\n",
    "    p99_90_latency_std = []\n",
    "    for t in range(duration):\n",
    "        p50_00_latency_std.append(np.std(p50_00_latency[t]))\n",
    "        p99_00_latency_std.append(np.std(p99_00_latency[t]))\n",
    "        p99_90_latency_std.append(np.std(p99_90_latency[t]))\n",
    "        p50_00_latency[t] = np.mean(p50_00_latency[t])\n",
    "        p99_00_latency[t] = np.mean(p99_00_latency[t])\n",
    "        p99_90_latency[t] = np.mean(p99_90_latency[t])\n",
    "\n",
    "\n",
    "\n",
    "    result_dict = {}\n",
    "    #result_dict[\"sender_type\"] = sender[7:]\n",
    "    #result_dict[\"payload_size\"] = size\n",
    "    result_dict[\"n_runs\"] = n_runs\n",
    "    #result_dict[\"payload_bound\"] = payload_bound\n",
    "    #result_dict[\"circle_size\"] = circle_size\n",
    "\n",
    "    result_dict[\"p50.00\"] = p50_00_latency\n",
    "    result_dict[\"p99.00\"] = p99_00_latency\n",
    "    result_dict[\"p99.90\"] = p99_90_latency\n",
    "    \n",
    "    result_dict[\"std_p50.00\"] = p50_00_latency_std\n",
    "    result_dict[\"std_p99.00\"] = p99_00_latency_std\n",
    "    result_dict[\"std_p99.90\"] = p99_90_latency_std\n",
    "\n",
    "    return result_dict\n",
    "\n"
   ]
  },
  {
   "attachments": {},
   "cell_type": "markdown",
   "metadata": {},
   "source": [
    "### Get results"
   ]
  },
  {
   "cell_type": "code",
   "execution_count": null,
   "metadata": {},
   "outputs": [],
   "source": [
    "payload_size = [1500]\n",
    "circle_size = [200]\n",
    "sender_type = ['sender_rdma_write_nomultip_read', 'sender_rdma', 'sender_rdma_write_multip_write',  'sender_rdma_write_multip_read', 'sender_rdma_write_nomultip_read', 'tcpproxy']\n",
    "payload_sizes = ['10-100','100-1000','1000-10000']\n",
    "simult_req = ['1','10','100']\n",
    "results = {}\n",
    "for psize in payload_size:\n",
    "    for csize in circle_size:\n",
    "        for size in payload_sizes:\n",
    "            for n in simult_req:\n",
    "                if (size, n) not in results:\n",
    "                    results[(size, n)] = {}\n",
    "                # one xp, let's get th latencies and avg req rates\n",
    "                #   CASE   OPS/SEC ...\n",
    "                # sender | res1 res2 res3        \n",
    "                data = []\n",
    "                for sender in sender_type:                    \n",
    "                    basename = f\"results/json_{sender}_{size}_{n}_{psize}_{csize}\" if sender!='tcpproxy' else f\"results/json_tcpproxy_{size}_{n}\"\n",
    "                    result_dic = average_over_runs(basename)\n",
    "                    results[(size, n)][sender] = result_dic                                                                    "
   ]
  },
  {
   "cell_type": "code",
   "execution_count": null,
   "metadata": {},
   "outputs": [],
   "source": [
    "results"
   ]
  },
  {
   "attachments": {},
   "cell_type": "markdown",
   "metadata": {},
   "source": [
    "### Print results"
   ]
  },
  {
   "cell_type": "code",
   "execution_count": null,
   "metadata": {},
   "outputs": [],
   "source": [
    "import matplotlib.pyplot as plt       \n",
    "\n",
    "for (data_size, n) in results.keys():\n",
    "    for p in ['p50.00', 'p99.00', 'p99.90']:\n",
    "        cur = results[(data_size, n)]\n",
    "        for sender in cur.keys():\n",
    "            #plt.errorbar(range(len(cur[payload_bound][p])), cur[payload_bound]['p50.00'], yerr=cur[payload_bound][f'std_{p}'], fmt='-o', ecolor='black', capsize=5, label=f'{payload_bound}')\n",
    "            plt.plot(range(len(cur[sender][p])), cur[sender][p], label=f'{sender}')\n",
    "        plt.ylim(bottom=0)\n",
    "        plt.xlabel('Time (in s)')\n",
    "        plt.ylabel('Latency (in ms)')\n",
    "        plt.title(f'{p} for workload : {data_size},{n}')\n",
    "        plt.legend()        \n",
    "        plt.savefig(f\"plots/timeseries_{p}_{data_size}_{n}-vary-sender.svg\")\n",
    "        plt.show()"
   ]
  },
  {
   "cell_type": "code",
   "execution_count": null,
   "metadata": {},
   "outputs": [],
   "source": [
    "import matplotlib.pyplot as plt\n",
    "\n",
    "# Assuming you have time series data and std_dev lists\n",
    "time_series_data = [1,2,3,4,5,6,7,8,9,10]\n",
    "std_dev = [0.1,0.2,0.3,0.1,0.2,0.1,0.3,0.2,0.1,0.2]\n",
    "time = range(len(time_series_data))\n",
    "\n",
    "plt.errorbar(time, time_series_data, yerr=std_dev, fmt='-o', ecolor='black', capsize=5, label='Time Series Data')\n",
    "\n",
    "plt.xlabel('Time')\n",
    "plt.ylabel('Value')\n",
    "plt.legend()\n",
    "plt.show()\n"
   ]
  }
 ],
 "metadata": {
  "kernelspec": {
   "display_name": "Python 3 (ipykernel)",
   "language": "python",
   "name": "python3"
  },
  "language_info": {
   "codemirror_mode": {
    "name": "ipython",
    "version": 3
   },
   "file_extension": ".py",
   "mimetype": "text/x-python",
   "name": "python",
   "nbconvert_exporter": "python",
   "pygments_lexer": "ipython3",
   "version": "3.8.10"
  },
  "vscode": {
   "interpreter": {
    "hash": "31f2aee4e71d21fbe5cf8b01ff0e069b9275f58929596ceb00d14d90e3e16cd6"
   }
  }
 },
 "nbformat": 4,
 "nbformat_minor": 2
}
