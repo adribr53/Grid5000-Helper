{
 "cells": [
  {
   "cell_type": "code",
   "execution_count": null,
   "metadata": {},
   "outputs": [],
   "source": [
    "import enoslib as en\n",
    "from grid5000 import Grid5000\n",
    "from pathlib import Path\n",
    "\n",
    "conf_file = Path.home() / \".python-grid5000.yaml\"\n",
    "gk = Grid5000.from_yaml(conf_file)\n",
    "gk.sites.list() # if credentials were written adequatly in .env, this should work"
   ]
  },
  {
   "cell_type": "markdown",
   "metadata": {},
   "source": [
    "Reserve machines"
   ]
  },
  {
   "cell_type": "code",
   "execution_count": null,
   "metadata": {},
   "outputs": [],
   "source": [
    "import enoslib as en\n",
    "from grid5000 import Grid5000\n",
    "from pathlib import Path\n",
    "\n",
    "conf_file = Path.home() / \".python-grid5000.yaml\"\n",
    "gk = Grid5000.from_yaml(conf_file)\n",
    "gk.sites.list() # if credentials were written adequatly in .env, this should work\n",
    "\n",
    "job_name = 'dev'\n",
    "\n",
    "conf = (\n",
    "    en.G5kConf.from_settings(\n",
    "        job_name=job_name,\n",
    "        job_type=[],#\"deploy\"],\n",
    "        # key=\"/home/adrien/.ssh/grid\",\n",
    "        #env_name=\"ubuntu2204-min\",\n",
    "        walltime=\"08:00:00\"\n",
    "    )    \n",
    "    .add_machine(roles=[\"client\"], cluster=\"grimoire\", nodes=1)\n",
    "    .add_machine(roles=[\"server\"], cluster=\"grimoire\", nodes=1)\n",
    "    # .add_machine(roles=[\"client\"], cluster=\"grimoire\", nodes=1)\n",
    "    # .add_machine(roles=[\"client\"], servers=[\"uvb-41.sophia.grid5000.fr\"]) #cluster=\"grimoire\", nodes=1)\n",
    "    # .add_machine(roles=[\"server\"], servers=[\"uvb-43.sophia.grid5000.fr\"]) #cluster=\"grimoire\", nodes=1)\n",
    "    # .add_machine(roles=[\"client\"], servers=[\"grimoire-3.nancy.grid5000.fr\"]) #cluster=\"grimoire\", nodes=1)\n",
    "    # .add_machine(roles=[\"server\"], servers=[\"grimoire-4.nancy.grid5000.fr\"]) #cluster=\"grimoire\", nodes=1)\n",
    ")\n",
    "\n",
    "provider = en.G5k(conf)\n",
    "\n",
    "roles, networks = provider.init()"
   ]
  },
  {
   "cell_type": "code",
   "execution_count": null,
   "metadata": {},
   "outputs": [],
   "source": [
    "results = en.run_command(\"sudo-g5k apt update\", roles=roles[\"client\"]+roles[\"server\"])\n",
    "results = en.run_command(\"sudo-g5k apt install -y apt-transport-https ca-certificates curl software-properties-common\", roles=roles[\"client\"]+roles[\"server\"])\n",
    "results = en.run_command(\"curl -fsSL https://download.docker.com/linux/debian/gpg | sudo-g5k gpg --dearmor -o /usr/share/keyrings/docker-archive-keyring.gpg\", roles=roles[\"client\"]+roles[\"server\"])\n",
    "results = en.run_command('echo \"deb [arch=$(dpkg --print-architecture) signed-by=/usr/share/keyrings/docker-archive-keyring.gpg] https://download.docker.com/linux/debian $(lsb_release -cs) stable\" | sudo-g5k tee /etc/apt/sources.list.d/docker.list > /dev/null', roles=roles[\"client\"]+roles[\"server\"])\n",
    "results = en.run_command(\"sudo-g5k apt update\", roles=roles[\"client\"]+roles[\"server\"])\n",
    "results = en.run_command(\"apt-cache policy docker-ce\", roles=roles[\"client\"]+roles[\"server\"])\n",
    "results = en.run_command(\"sudo-g5k apt install -y docker-ce\", roles=roles[\"client\"]+roles[\"server\"])\n"
   ]
  },
  {
   "cell_type": "code",
   "execution_count": null,
   "metadata": {},
   "outputs": [],
   "source": [
    "results = en.run_command(\"sudo-g5k apt install apt-transport-https curl gnupg -y\", roles=roles[\"client\"]+roles[\"server\"])\n",
    "results = en.run_command(\"curl -fsSL https://bazel.build/bazel-release.pub.gpg | gpg --dearmor >bazel-archive-keyring.gpg\", roles=roles[\"client\"]+roles[\"server\"])\n",
    "results = en.run_command(\"sudo-g5k mv bazel-archive-keyring.gpg /usr/share/keyrings\", roles=roles[\"client\"]+roles[\"server\"])\n",
    "results = en.run_command('echo \"deb [arch=amd64 signed-by=/usr/share/keyrings/bazel-archive-keyring.gpg] https://storage.googleapis.com/bazel-apt stable jdk1.8\" | sudo-g5k tee /etc/apt/sources.list.d/bazel.list', roles=roles[\"client\"]+roles[\"server\"])\n",
    "results = en.run_command(\"sudo-g5k apt update && sudo-g5k apt install -y bazel\", roles=roles[\"client\"]+roles[\"server\"])\n",
    "#results = en.run_command(\"sudo-g5k apt update && sudo-g5k apt full-upgrade -y\", roles=roles[\"client\"])"
   ]
  },
  {
   "cell_type": "code",
   "execution_count": null,
   "metadata": {},
   "outputs": [],
   "source": [
    "# results = en.run_command(\"scp -r rdma-vm:./g5k/envoy-docker-build.tar.gz /tmp\", roles=roles[\"client\"]+roles[\"server\"])\n",
    "results = en.run_command(\"cp /home/mdeneuville/envoy-docker-build.tar.gz /tmp\", roles=roles[\"client\"]+roles[\"server\"])\n",
    "results = en.run_command(\"cd /tmp && sudo-g5k tar -xzvf envoy-docker-build.tar.gz\", roles=roles[\"client\"]+roles[\"server\"])\n",
    "results = en.run_command(\"cd /tmp && sudo chown -R root:docker envoy-docker-build && sudo chmod 755 -R envoy-docker-build\", roles=roles[\"client\"]+roles[\"server\"])\n",
    "results = en.run_command(\"cd /home/mdeneuville/envoy && ./ci/run_envoy_docker.sh './ci/do_ci.sh bazel.release.server_only'\", roles=roles[\"client\"])\n",
    "results = en.run_command(\"cd /home/mdeneuville/envoy && ./ci/run_envoy_docker.sh './ci/do_ci.sh bazel.release.server_only'\", roles=roles[\"server\"])"
   ]
  },
  {
   "cell_type": "markdown",
   "metadata": {},
   "source": [
    "Setup experiments"
   ]
  },
  {
   "cell_type": "code",
   "execution_count": null,
   "metadata": {},
   "outputs": [],
   "source": [
    "results = en.run_command(\"sudo-g5k apt install -y memcached\", roles=roles[\"server\"])"
   ]
  },
  {
   "cell_type": "code",
   "execution_count": null,
   "metadata": {},
   "outputs": [],
   "source": [
    "results = en.run_command(\"ip addr show ib0 | grep inet | awk '{ print $2 }' | cut -d/ -f1 | head -n 1\", roles=roles[\"client\"])\n",
    "client_ip = results[0].payload['stdout']\n",
    "print(client_ip)\n",
    "\n",
    "results = en.run_command(\"ip addr show ib0 | grep inet | awk '{ print $2 }' | cut -d/ -f1 | head -n 1\", roles=roles[\"server\"])\n",
    "server_ip = results[0].payload['stdout']\n",
    "print(server_ip)\n",
    "\n",
    "sender_type = ['sender', 'sender_rdma', 'sender_rdma_write_multip_write', 'sender_rdma_write_multip_read', 'sender_rdma_write_nomultip_read']\n",
    "SENDER_TYPE = ['Sender', 'SenderRDMA', 'SenderRDMAWriteMultipWrite', 'SenderRDMAWriteMultipRead', 'SenderRDMAWriteNomultipRead']\n",
    "\n",
    "receiver_type = ['receiver', 'receiver_rdma', 'receiver_rdma_write_multip_write', 'receiver_rdma_write_multip_read', 'receiver_rdma_write_nomultip_read']\n",
    "RECEIVER_TYPE = ['Receiver', 'ReceiverRDMA', 'ReceiverRDMAWriteMultipWrite', 'ReceiverRDMAWriteMultipRead', 'ReceiverRDMAWriteNomultipRead']"
   ]
  },
  {
   "cell_type": "code",
   "execution_count": null,
   "metadata": {},
   "outputs": [],
   "source": [
    "# memtier params\n",
    "payload_sizes = ['10-100', '100-1000', '1000-10000']\n",
    "simult_req = ['1', '10', '100']\n",
    "# RDMA filters params\n",
    "# payload_bounds = ['100', '300', '1000', '3000', '6000']\n",
    "# circle_sizes = ['100', '200', '500']\n",
    "payload_bounds = ['1500']\n",
    "circle_sizes = ['200']\n",
    "test_time = 90 # in seconds\n",
    "\n",
    "# RDMA filters dictionary\n",
    "benchmarks_custom = {}\n",
    "for size in payload_sizes:\n",
    "    benchmarks_custom[size] = {}\n",
    "    for n in simult_req:\n",
    "        benchmarks_custom[size][n] = {}\n",
    "        for payload_bound in payload_bounds:\n",
    "            benchmarks_custom[size][n][payload_bound] = {}\n",
    "            for circle_size in circle_sizes:\n",
    "                benchmarks_custom[size][n][payload_bound][circle_size] = {}\n",
    "                for i in range(len(sender_type)):\n",
    "                    benchmarks_custom[size][n][payload_bound][circle_size][i] = f\"./memtier_benchmark -s 127.0.0.1 -p 3001 -P memcache_text -c 1 -t 1 --test-time={test_time} --data-size-range={size} --pipeline={n} --print-percentiles 50,99,99.9, 99.99, 99.999 --hdr-file-prefix=latencies_{sender_type[i]}_{size}_{n}_{payload_bound}_{circle_size} --json-out-file=json_{sender_type[i]}_{size}_{n}_{payload_bound}_{circle_size}\"\n",
    "\n",
    "# tcp_proxy dictionary\n",
    "benchmarks_tcpproxy = {}\n",
    "for size in payload_sizes:\n",
    "    benchmarks_tcpproxy[size] = {}\n",
    "    for n in simult_req:\n",
    "        benchmarks_tcpproxy[size][n] = f\"./memtier_benchmark -s 127.0.0.1 -p 3001 -P memcache_text -c 1 -t 1 --test-time={test_time} --data-size-range={size} --pipeline={n} --print-percentiles 50,99,99.9, 99.99, 99.999 --hdr-file-prefix=latencies_tcpproxy_{size}_{n} --json-out-file=json_tcpproxy_{size}_{n}\""
   ]
  },
  {
   "cell_type": "code",
   "execution_count": null,
   "metadata": {},
   "outputs": [],
   "source": [
    "\n",
    "import subprocess\n",
    "import time\n",
    "\n",
    "i = 0\n",
    "for size in payload_sizes:\n",
    "    for n in simult_req:\n",
    "        for payload_bound in payload_bounds:\n",
    "            for circle_size in circle_sizes:\n",
    "                for i in range(len(sender_type)):\n",
    "                    if (i > -1):\n",
    "                        # Custom filters\n",
    "                        results = en.run_command(f\"\"\"export CLIENT_IP={client_ip} && export SERVER_IP={server_ip} && \\\n",
    "                            export sender_type={sender_type[i]} && export SENDER_TYPE={SENDER_TYPE[i]} && \\\n",
    "                            export receiver_type={receiver_type[i]} && export RECEIVER_TYPE={RECEIVER_TYPE[i]} && \\\n",
    "                            export payload_bound={payload_bound} && \\\n",
    "                            export circle_size={circle_size} && \\\n",
    "                            cd /home/mdeneuville/envoy && envsubst < config_template_files/template_client.yaml > config_files/client.yaml\"\"\", roles=roles[\"client\"])\n",
    "\n",
    "                        results = en.run_command(f\"\"\"export CLIENT_IP={client_ip} && export SERVER_IP={server_ip} && \\\n",
    "                            export sender_type={sender_type[i]} && export SENDER_TYPE={SENDER_TYPE[i]} && \\\n",
    "                            export receiver_type={receiver_type[i]} && export RECEIVER_TYPE={RECEIVER_TYPE[i]} && \\\n",
    "                            export payload_bound={payload_bound} && \\\n",
    "                            export circle_size={circle_size} && \\\n",
    "                            cd /home/mdeneuville/envoy && envsubst < config_template_files/template_server.yaml > config_files/server.yaml\"\"\", roles=roles[\"server\"])\n",
    "\n",
    "                        # Launch Envoy proxy\n",
    "                        results = en.run_command(\"cd /home/mdeneuville/envoy && /tmp/envoy-docker-build/envoy/source/exe/envoy/envoy -c config_files/client.yaml\", background=True, roles=roles[\"client\"])\n",
    "                        results = en.run_command(\"cd /home/mdeneuville/envoy && /tmp/envoy-docker-build/envoy/source/exe/envoy/envoy -c config_files/server.yaml\", background=True, roles=roles[\"server\"])\n",
    "\n",
    "                        # Launch benchmark\n",
    "                        results = en.run_command(f'cd /home/mdeneuville/memtier_benchmark  && {benchmarks_custom[size][n][payload_bound][circle_size][i]}', roles=roles[\"client\"])\n",
    "                        for res in results:\n",
    "                            print(sender_type[i])\n",
    "                            print(res.payload['stdout'])\n",
    "                            print(\"\")\n",
    "                        \n",
    "                        # Kill proxies\n",
    "                        try:\n",
    "                            results = en.run_command('pgrep -f \"/tmp/envoy-docker-build/envoy/source/exe/envoy/envoy\" | xargs kill', roles=roles[\"client\"]+roles[\"server\"])\n",
    "                        except:\n",
    "                            print(\"Failed successfully\")\n",
    "                        \n",
    "                        # Reset memcached\n",
    "                        results = en.run_command('echo \"flush_all\" | nc -q 2 localhost 11211', roles=roles[\"server\"])\n",
    "\n",
    "                        # Sleep for 5 seconds\n",
    "                        time.sleep(5)\n",
    "                        i += 1\n",
    "\n",
    "        # TCP proxy\n",
    "        results = en.run_command(f\"\"\"export CLIENT_IP={client_ip} && export SERVER_IP={server_ip} && \\\n",
    "            cd /home/mdeneuville/envoy && envsubst < config_template_files/template_client_tcp_proxy.yaml > config_files/client_tcp_proxy.yaml\"\"\", roles=roles[\"client\"])\n",
    "\n",
    "        results = en.run_command(f\"\"\"export CLIENT_IP={client_ip} && export SERVER_IP={server_ip} && \\\n",
    "            cd /home/mdeneuville/envoy && envsubst < config_template_files/template_server_tcp_proxy.yaml > config_files/server_tcp_proxy.yaml\"\"\", roles=roles[\"server\"])\n",
    "\n",
    "        # Launch Envoy proxy\n",
    "        results = en.run_command(\"cd /home/mdeneuville/envoy && /tmp/envoy-docker-build/envoy/source/exe/envoy/envoy -c config_files/client_tcp_proxy.yaml\", background=True, roles=roles[\"client\"])\n",
    "        results = en.run_command(\"cd /home/mdeneuville/envoy && /tmp/envoy-docker-build/envoy/source/exe/envoy/envoy -c config_files/server_tcp_proxy.yaml\", background=True, roles=roles[\"server\"])\n",
    "\n",
    "        # Launch benchmark\n",
    "        results = en.run_command(f\"cd /home/mdeneuville/memtier_benchmark && {benchmarks_tcpproxy[size][n]}\", roles=roles[\"client\"])\n",
    "        for res in results:\n",
    "            print(\"TCP_PROXY\")\n",
    "            print(res.payload['stdout'])\n",
    "            print(\"\")\n",
    "\n",
    "        # Kill proxies\n",
    "        try:\n",
    "            results = en.run_command('pgrep -f \"/tmp/envoy-docker-build/envoy/source/exe/envoy/envoy\" | xargs kill', roles=roles[\"client\"]+roles[\"server\"])\n",
    "        except:\n",
    "            print(\"Failed successfully\")\n",
    "\n",
    "        # Reset memcached\n",
    "        results = en.run_command('echo \"flush_all\" | nc -q 2 localhost 11211', roles=roles[\"server\"])\n",
    "\n",
    "        # Sleep for 5 seconds\n",
    "        time.sleep(5)\n",
    "\n",
    "# Copy results locally\n",
    "!scp nancy.g5k:/home/mdeneuville/memtier_benchmark/json* results/\n",
    "!scp nancy.g5k:/home/mdeneuville/memtier_benchmark/latencies* results/"
   ]
  },
  {
   "cell_type": "code",
   "execution_count": null,
   "metadata": {},
   "outputs": [],
   "source": [
    "results = en.run_command(\"cd /home/mdeneuville/envoy && /tmp/envoy-docker-build/envoy/source/exe/envoy/envoy -c config_files/client.yaml\", background=True, roles=roles[\"client\"])\n",
    "results = en.run_command(\"cd /home/mdeneuville/envoy && /tmp/envoy-docker-build/envoy/source/exe/envoy/envoy -c config_files/server.yaml\", background=True, roles=roles[\"server\"])"
   ]
  },
  {
   "cell_type": "code",
   "execution_count": null,
   "metadata": {},
   "outputs": [],
   "source": [
    "results = en.run_command(\"cd /home/mdeneuville/memtier_benchmark && ./memtier_benchmark --test-time=5 -s localhost -p 3001 -P memcache_text -c 1 -t 1 --hdr-file-prefix=latencies --json-out-file=res_json\", roles=roles[\"client\"])\n",
    "for res in results:\n",
    "    print(res.payload['stdout'])\n",
    "\n",
    "!scp sophia.g5k:/home/mdeneuville/memtier_benchmark/res_json results/\n",
    "sender_type = \"sender_type1\"\n",
    "name = f'{sender_type}'\n",
    "!mv results/res_json results/res_json_{name}\n",
    "!scp sophia.g5k:/home/mdeneuville/memtier_benchmark/latencies* results/\n",
    "import subprocess\n",
    "directory = \"results\"\n",
    "command = f'for file in {directory}/latencies*; do mv \"$file\" \"{directory}/{name}_${{file##*/}}\"; done'\n",
    "subprocess.run([\"bash\", \"-c\", command], check=True)\n"
   ]
  },
  {
   "cell_type": "code",
   "execution_count": null,
   "metadata": {},
   "outputs": [],
   "source": [
    "try:\n",
    "    results = en.run_command('pgrep -f \"/tmp/envoy-docker-build/envoy/source/exe/envoy/envoy\" | xargs kill', roles=roles[\"client\"]+roles[\"server\"])\n",
    "except:\n",
    "    print(\"Failed successfully\")"
   ]
  },
  {
   "cell_type": "code",
   "execution_count": null,
   "metadata": {},
   "outputs": [],
   "source": [
    "# !rm -rf results/*"
   ]
  },
  {
   "cell_type": "code",
   "execution_count": null,
   "metadata": {},
   "outputs": [],
   "source": [
    "provider.destroy()"
   ]
  }
 ],
 "metadata": {
  "kernelspec": {
   "display_name": "Python 3.8.10 64-bit",
   "language": "python",
   "name": "python3"
  },
  "language_info": {
   "codemirror_mode": {
    "name": "ipython",
    "version": 3
   },
   "file_extension": ".py",
   "mimetype": "text/x-python",
   "name": "python",
   "nbconvert_exporter": "python",
   "pygments_lexer": "ipython3",
   "version": "3.8.10"
  },
  "orig_nbformat": 4,
  "vscode": {
   "interpreter": {
    "hash": "31f2aee4e71d21fbe5cf8b01ff0e069b9275f58929596ceb00d14d90e3e16cd6"
   }
  }
 },
 "nbformat": 4,
 "nbformat_minor": 2
}
