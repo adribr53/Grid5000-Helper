{
 "cells": [
  {
   "cell_type": "code",
   "execution_count": null,
   "metadata": {},
   "outputs": [],
   "source": [
    "import enoslib as en\n",
    "from grid5000 import Grid5000\n",
    "from pathlib import Path\n",
    "\n",
    "conf_file = Path.home() / \".python-grid5000.yaml\"\n",
    "gk = Grid5000.from_yaml(conf_file)\n",
    "gk.sites.list() # if credentials were written adequatly in .env, this should work"
   ]
  },
  {
   "cell_type": "markdown",
   "metadata": {},
   "source": [
    "Reserve machines"
   ]
  },
  {
   "cell_type": "code",
   "execution_count": null,
   "metadata": {},
   "outputs": [],
   "source": [
    "import enoslib as en\n",
    "from grid5000 import Grid5000\n",
    "from pathlib import Path\n",
    "\n",
    "conf_file = Path.home() / \".python-grid5000.yaml\"\n",
    "gk = Grid5000.from_yaml(conf_file)\n",
    "gk.sites.list() # if credentials were written adequatly in .env, this should work\n",
    "\n",
    "job_name = 'dev'\n",
    "\n",
    "conf = (\n",
    "    en.G5kConf.from_settings(\n",
    "        job_name=job_name,\n",
    "        job_type=[],#\"deploy\"],\n",
    "        # key=\"/home/adrien/.ssh/grid\",\n",
    "        #env_name=\"ubuntu2204-min\",\n",
    "        walltime=\"00:05:00\"\n",
    "    )    \n",
    "    .add_machine(roles=[\"client\"], cluster=\"grimoire\", nodes=1)\n",
    "    .add_machine(roles=[\"server\"], cluster=\"grimoire\", nodes=1)\n",
    "    # .add_machine(roles=[\"client\"], cluster=\"grimoire\", nodes=1)\n",
    "    # .add_machine(roles=[\"client\"], servers=[\"uvb-25.sophia.grid5000.fr\"]) #cluster=\"grimoire\", nodes=1)\n",
    "    # .add_machine(roles=[\"server\"], servers=[\"uvb-26.sophia.grid5000.fr\"]) #cluster=\"grimoire\", nodes=1)\n",
    "    # .add_machine(roles=[\"client\"], servers=[\"grimoire-3.nancy.grid5000.fr\"]) #cluster=\"grimoire\", nodes=1)\n",
    "    # .add_machine(roles=[\"server\"], servers=[\"grimoire-4.nancy.grid5000.fr\"]) #cluster=\"grimoire\", nodes=1)\n",
    ")\n",
    "\n",
    "provider = en.G5k(conf)\n",
    "\n",
    "roles, networks = provider.init()"
   ]
  },
  {
   "cell_type": "code",
   "execution_count": null,
   "metadata": {},
   "outputs": [],
   "source": [
    "results = en.run_command(\"sudo-g5k apt update\", roles=roles[\"client\"]+roles[\"server\"])\n",
    "results = en.run_command(\"sudo-g5k apt install -y apt-transport-https ca-certificates curl software-properties-common\", roles=roles[\"client\"]+roles[\"server\"])\n",
    "results = en.run_command(\"curl -fsSL https://download.docker.com/linux/debian/gpg | sudo-g5k gpg --dearmor -o /usr/share/keyrings/docker-archive-keyring.gpg\", roles=roles[\"client\"]+roles[\"server\"])\n",
    "results = en.run_command('echo \"deb [arch=$(dpkg --print-architecture) signed-by=/usr/share/keyrings/docker-archive-keyring.gpg] https://download.docker.com/linux/debian $(lsb_release -cs) stable\" | sudo-g5k tee /etc/apt/sources.list.d/docker.list > /dev/null', roles=roles[\"client\"]+roles[\"server\"])\n",
    "results = en.run_command(\"sudo-g5k apt update\", roles=roles[\"client\"]+roles[\"server\"])\n",
    "results = en.run_command(\"apt-cache policy docker-ce\", roles=roles[\"client\"]+roles[\"server\"])\n",
    "results = en.run_command(\"sudo-g5k apt install -y docker-ce\", roles=roles[\"client\"]+roles[\"server\"])\n"
   ]
  },
  {
   "cell_type": "code",
   "execution_count": null,
   "metadata": {},
   "outputs": [],
   "source": [
    "results = en.run_command(\"sudo-g5k apt install apt-transport-https curl gnupg -y\", roles=roles[\"client\"]+roles[\"server\"])\n",
    "results = en.run_command(\"curl -fsSL https://bazel.build/bazel-release.pub.gpg | gpg --dearmor >bazel-archive-keyring.gpg\", roles=roles[\"client\"]+roles[\"server\"])\n",
    "results = en.run_command(\"sudo-g5k mv bazel-archive-keyring.gpg /usr/share/keyrings\", roles=roles[\"client\"]+roles[\"server\"])\n",
    "results = en.run_command('echo \"deb [arch=amd64 signed-by=/usr/share/keyrings/bazel-archive-keyring.gpg] https://storage.googleapis.com/bazel-apt stable jdk1.8\" | sudo-g5k tee /etc/apt/sources.list.d/bazel.list', roles=roles[\"client\"]+roles[\"server\"])\n",
    "results = en.run_command(\"sudo-g5k apt update && sudo-g5k apt install -y bazel\", roles=roles[\"client\"]+roles[\"server\"])\n",
    "#results = en.run_command(\"sudo-g5k apt update && sudo-g5k apt full-upgrade -y\", roles=roles[\"client\"])"
   ]
  },
  {
   "cell_type": "code",
   "execution_count": null,
   "metadata": {},
   "outputs": [],
   "source": [
    "# results = en.run_command(\"scp -r rdma-vm:./g5k/envoy-docker-build.tar.gz /tmp\", roles=roles[\"client\"]+roles[\"server\"])\n",
    "results = en.run_command(\"cp /home/mdeneuville/envoy-docker-build.tar.gz /tmp\", roles=roles[\"client\"]+roles[\"server\"])\n",
    "results = en.run_command(\"cd /tmp && sudo-g5k tar -xzvf envoy-docker-build.tar.gz\", roles=roles[\"client\"]+roles[\"server\"])\n",
    "results = en.run_command(\"cd /tmp && sudo chown -R root:docker envoy-docker-build && sudo chmod 755 -R envoy-docker-build\", roles=roles[\"client\"]+roles[\"server\"])\n",
    "results = en.run_command(\"cd /home/mdeneuville/envoy && ./ci/run_envoy_docker.sh './ci/do_ci.sh bazel.release.server_only'\", roles=roles[\"client\"])\n",
    "results = en.run_command(\"cd /home/mdeneuville/envoy && ./ci/run_envoy_docker.sh './ci/do_ci.sh bazel.release.server_only'\", roles=roles[\"server\"])"
   ]
  },
  {
   "cell_type": "markdown",
   "metadata": {},
   "source": [
    "Setup experiments"
   ]
  },
  {
   "cell_type": "code",
   "execution_count": null,
   "metadata": {},
   "outputs": [],
   "source": [
    "results = en.run_command(\"sudo-g5k apt install -y memcached\", roles=roles[\"server\"])"
   ]
  },
  {
   "cell_type": "code",
   "execution_count": null,
   "metadata": {},
   "outputs": [],
   "source": [
    "results = en.run_command(\"cd /home/mdeneuville/envoy && /tmp/envoy-docker-build/envoy/source/exe/envoy/envoy -c testing/config_node1_custom_tcp.yaml\", background=True, roles=roles[\"client\"])\n",
    "results = en.run_command(\"cd /home/mdeneuville/envoy && /tmp/envoy-docker-build/envoy/source/exe/envoy/envoy -c testing/config_node2_custom_tcp.yaml\", background=True, roles=roles[\"server\"])"
   ]
  },
  {
   "cell_type": "code",
   "execution_count": null,
   "metadata": {},
   "outputs": [],
   "source": [
    "results = en.run_command(\"cd /home/mdeneuville/memtier_benchmark && ./memtier_benchmark --test-time=20 -s localhost -p 3001 -P memcache_text -c 1 -t 1\", background=True, roles=roles[\"client\"])\n",
    "results"
   ]
  },
  {
   "cell_type": "code",
   "execution_count": null,
   "metadata": {},
   "outputs": [],
   "source": [
    "for res in results:\n",
    "    print(res.payload)"
   ]
  },
  {
   "cell_type": "code",
   "execution_count": null,
   "metadata": {},
   "outputs": [],
   "source": [
    "provider.destroy()"
   ]
  }
 ],
 "metadata": {
  "kernelspec": {
   "display_name": "Python 3.8.10 64-bit",
   "language": "python",
   "name": "python3"
  },
  "language_info": {
   "codemirror_mode": {
    "name": "ipython",
    "version": 3
   },
   "file_extension": ".py",
   "mimetype": "text/x-python",
   "name": "python",
   "nbconvert_exporter": "python",
   "pygments_lexer": "ipython3",
   "version": "3.8.10"
  },
  "orig_nbformat": 4,
  "vscode": {
   "interpreter": {
    "hash": "31f2aee4e71d21fbe5cf8b01ff0e069b9275f58929596ceb00d14d90e3e16cd6"
   }
  }
 },
 "nbformat": 4,
 "nbformat_minor": 2
}
