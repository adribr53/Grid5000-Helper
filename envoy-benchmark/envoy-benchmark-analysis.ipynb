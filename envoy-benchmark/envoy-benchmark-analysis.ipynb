{
 "cells": [
  {
   "cell_type": "code",
   "execution_count": null,
   "metadata": {},
   "outputs": [],
   "source": [
    "import json\n",
    "import pandas as pd"
   ]
  },
  {
   "cell_type": "code",
   "execution_count": null,
   "metadata": {},
   "outputs": [],
   "source": [
    "\n",
    "\n",
    "sender_type = ['sender', 'sender_rdma', 'sender_rdma_write_multip_write', 'tcpproxy']\n",
    "payload_sizes = ['10-100','100-1000','1000-10000']\n",
    "simult_req = ['1','10','100']\n",
    "for size in payload_sizes:\n",
    "   for n in simult_req:\n",
    "        # one xp, let's get th latencies and avg req rates\n",
    "        #   CASE   OPS/SEC ...\n",
    "        # sender | res1 res2 res3        \n",
    "        data = []\n",
    "        for sender in sender_type:\n",
    "            result_json = f\"results/json_{sender}_{size}_{n}\"\n",
    "            print(result_json)            \n",
    "            with open(result_json, 'r') as file:\n",
    "                result =  json.load(file)                \n",
    "                \n",
    "                result_dict = {}\n",
    "                result_dict[\"sender_type\"] = sender\n",
    "                result_dict[\"Ops/sec\"] = result['ALL STATS']['Totals']['Ops/sec']\n",
    "                result_dict[\"Average Latency\"] = result['ALL STATS']['Totals']['Average Latency']\n",
    "                result_dict[\"p50.00\"] = result['ALL STATS']['Totals']['Percentile Latencies']['p50.00']\n",
    "                result_dict[\"p99.00\"] = result['ALL STATS']['Totals']['Percentile Latencies']['p99.00']\n",
    "                result_dict[\"p99.90\"] = result['ALL STATS']['Totals']['Percentile Latencies']['p99.90']\n",
    "                \n",
    "                data.append(result_dict)\n",
    "            print(result)        \n",
    "        print(\"\\n\\n\\n\")\n",
    "        df = pd.DataFrame(data)\n",
    "        df.to_csv(f'res_{size}_{n}.csv')"
   ]
  },
  {
   "cell_type": "code",
   "execution_count": null,
   "metadata": {},
   "outputs": [],
   "source": [
    "result['ALL STATS']['Totals']['Ops/sec']\n",
    "result['ALL STATS']['Totals']['Average Latency']\n",
    "result['ALL STATS']['Totals']['Ops/sec']\n",
    "result['ALL STATS']['Totals']['Percentile Latencies']['p50.00']\n",
    "result['ALL STATS']['Totals']['Percentile Latencies']['p99.00']\n",
    "result['ALL STATS']['Totals']['Percentile Latencies']['p99.90']"
   ]
  },
  {
   "cell_type": "code",
   "execution_count": null,
   "metadata": {},
   "outputs": [],
   "source": [
    "import matplotlib.pyplot as plt\n",
    "\n",
    "def plot_metric_over_time(time_series, metric_name, duration, y_axis_name, plot_filename):\n",
    "    metric_values_over_time = []\n",
    "    for t in range(duration):\n",
    "        metric_values_over_time.append(time_series[str(t)][metric_name])\n",
    "\n",
    "    plt.clf()\n",
    "    plt.bar(range(duration), metric_values_over_time)\n",
    "    plt.xlabel('Time (s)', fontsize=12)\n",
    "    plt.ylabel(y_axis_name, fontsize=12)\n",
    "    plt.xticks(fontsize=10, rotation=45, ha='right')\n",
    "    plt.yticks(fontsize=10)\n",
    "    plt.title(f'{y_axis_name} over Time', fontsize=14)\n",
    "    plt.grid(axis='y', linestyle='--', alpha=0.7)\n",
    "    plt.tight_layout()\n",
    "    plt.savefig(f\"plots/{plot_filename}.svg\")"
   ]
  },
  {
   "cell_type": "code",
   "execution_count": null,
   "metadata": {},
   "outputs": [],
   "source": [
    "\n",
    "# Generate plots for all json\n",
    "sender_type = ['sender', 'sender_rdma', 'sender_rdma_write_multip_write', 'tcpproxy']\n",
    "payload_sizes = ['10-100','100-1000','1000-10000']\n",
    "simult_req = ['1','10','100']\n",
    "for size in payload_sizes:\n",
    "   for n in simult_req:     \n",
    "        data = []\n",
    "        for sender in sender_type:\n",
    "            result_json = f\"results/json_{sender}_{size}_{n}\"\n",
    "            print(result_json)\n",
    "            with open(result_json, 'r') as file:\n",
    "                result =  json.load(file)        \n",
    "\n",
    "            duration = result['configuration']['test_time']\n",
    "            time_series = result['ALL STATS']['Totals']['Time-Serie']\n",
    "\n",
    "            plot_metric_over_time(time_series=time_series, metric_name='p99.90', duration=duration, y_axis_name='p99.90 Latency (ms)', plot_filename=f'{sender}_{size}_{n}_p99.90')\n",
    "            plot_metric_over_time(time_series=time_series, metric_name='p99.00', duration=duration, y_axis_name='p99.00 Latency (ms)', plot_filename=f'{sender}_{size}_{n}_p99.00')\n",
    "            plot_metric_over_time(time_series=time_series, metric_name='p50.00', duration=duration, y_axis_name='p50.00 Latency (ms)', plot_filename=f'{sender}_{size}_{n}_p50.00')\n",
    "            plot_metric_over_time(time_series=time_series, metric_name='Average Latency', duration=duration, y_axis_name='Average Latency (ms)', plot_filename=f'{sender}_{size}_{n}_avg_latency')\n",
    "            plot_metric_over_time(time_series=time_series, metric_name='Count', duration=duration, y_axis_name='Count', plot_filename=f'{sender}_{size}_{n}_count')\n",
    "            plot_metric_over_time(time_series=time_series, metric_name='Max Latency', duration=duration, y_axis_name='Maximum Latency (ms)', plot_filename=f'{sender}_{size}_{n}_max_latency')"
   ]
  },
  {
   "cell_type": "code",
   "execution_count": null,
   "metadata": {},
   "outputs": [],
   "source": [
    "\n",
    "# Generate plots for individual json\n",
    "result_json = f\"results/json_rdma_sender_10-100_1\"\n",
    "print(result_json)          \n",
    "\n",
    "duration = result['configuration']['test_time']\n",
    "plot_metric_over_time(time_series=time_series, metric_name='p99.90', duration=duration, y_axis_name='p99.90 Latency (ms)', plot_filename=f'{sender}_{size}_{n}_p99.90')\n",
    "plot_metric_over_time(time_series=time_series, metric_name='p99.00', duration=duration, y_axis_name='p99.00 Latency (ms)', plot_filename=f'{sender}_{size}_{n}_p99.00')\n",
    "plot_metric_over_time(time_series=time_series, metric_name='p50.00', duration=duration, y_axis_name='p50.00 Latency (ms)', plot_filename=f'{sender}_{size}_{n}_p50.00')\n",
    "plot_metric_over_time(time_series=time_series, metric_name='Average Latency', duration=duration, y_axis_name='Average Latency (ms)', plot_filename=f'{sender}_{size}_{n}_avg_latency')\n",
    "plot_metric_over_time(time_series=time_series, metric_name='Count', duration=duration, y_axis_name='Count', plot_filename=f'{sender}_{size}_{n}_count')\n",
    "plot_metric_over_time(time_series=time_series, metric_name='Max Latency', duration=duration, y_axis_name='Maximum Latency (ms)', plot_filename=f'{sender}_{size}_{n}_max_latency')"
   ]
  }
 ],
 "metadata": {
  "kernelspec": {
   "display_name": "Python 3.8.10 64-bit",
   "language": "python",
   "name": "python3"
  },
  "language_info": {
   "codemirror_mode": {
    "name": "ipython",
    "version": 3
   },
   "file_extension": ".py",
   "mimetype": "text/x-python",
   "name": "python",
   "nbconvert_exporter": "python",
   "pygments_lexer": "ipython3",
   "version": "3.8.10"
  },
  "orig_nbformat": 4,
  "vscode": {
   "interpreter": {
    "hash": "31f2aee4e71d21fbe5cf8b01ff0e069b9275f58929596ceb00d14d90e3e16cd6"
   }
  }
 },
 "nbformat": 4,
 "nbformat_minor": 2
}
