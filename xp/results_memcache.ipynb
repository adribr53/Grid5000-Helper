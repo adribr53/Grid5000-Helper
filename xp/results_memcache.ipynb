{
 "cells": [
  {
   "cell_type": "code",
   "execution_count": 1,
   "metadata": {},
   "outputs": [],
   "source": [
    "import pandas as pd"
   ]
  },
  {
   "attachments": {},
   "cell_type": "markdown",
   "metadata": {},
   "source": [
    "### Load data"
   ]
  },
  {
   "cell_type": "code",
   "execution_count": 2,
   "metadata": {},
   "outputs": [
    {
     "data": {
      "text/html": [
       "<div>\n",
       "<style scoped>\n",
       "    .dataframe tbody tr th:only-of-type {\n",
       "        vertical-align: middle;\n",
       "    }\n",
       "\n",
       "    .dataframe tbody tr th {\n",
       "        vertical-align: top;\n",
       "    }\n",
       "\n",
       "    .dataframe thead th {\n",
       "        text-align: right;\n",
       "    }\n",
       "</style>\n",
       "<table border=\"1\" class=\"dataframe\">\n",
       "  <thead>\n",
       "    <tr style=\"text-align: right;\">\n",
       "      <th></th>\n",
       "      <th>rdma</th>\n",
       "      <th>tcp</th>\n",
       "      <th>nop</th>\n",
       "    </tr>\n",
       "  </thead>\n",
       "  <tbody>\n",
       "    <tr>\n",
       "      <th>0</th>\n",
       "      <td>1         Threads\\n1         Connections per t...</td>\n",
       "      <td>1         Threads\\n1         Connections per t...</td>\n",
       "      <td>1         Threads\\n1         Connections per t...</td>\n",
       "    </tr>\n",
       "    <tr>\n",
       "      <th>1</th>\n",
       "      <td>1         Threads\\n1         Connections per t...</td>\n",
       "      <td>1         Threads\\n1         Connections per t...</td>\n",
       "      <td>1         Threads\\n1         Connections per t...</td>\n",
       "    </tr>\n",
       "    <tr>\n",
       "      <th>2</th>\n",
       "      <td>1         Threads\\n1         Connections per t...</td>\n",
       "      <td>1         Threads\\n1         Connections per t...</td>\n",
       "      <td>1         Threads\\n1         Connections per t...</td>\n",
       "    </tr>\n",
       "    <tr>\n",
       "      <th>3</th>\n",
       "      <td>1         Threads\\n1         Connections per t...</td>\n",
       "      <td>1         Threads\\n1         Connections per t...</td>\n",
       "      <td>1         Threads\\n1         Connections per t...</td>\n",
       "    </tr>\n",
       "    <tr>\n",
       "      <th>4</th>\n",
       "      <td>1         Threads\\n1         Connections per t...</td>\n",
       "      <td>1         Threads\\n1         Connections per t...</td>\n",
       "      <td>1         Threads\\n1         Connections per t...</td>\n",
       "    </tr>\n",
       "  </tbody>\n",
       "</table>\n",
       "</div>"
      ],
      "text/plain": [
       "                                                rdma  \\\n",
       "0  1         Threads\\n1         Connections per t...   \n",
       "1  1         Threads\\n1         Connections per t...   \n",
       "2  1         Threads\\n1         Connections per t...   \n",
       "3  1         Threads\\n1         Connections per t...   \n",
       "4  1         Threads\\n1         Connections per t...   \n",
       "\n",
       "                                                 tcp  \\\n",
       "0  1         Threads\\n1         Connections per t...   \n",
       "1  1         Threads\\n1         Connections per t...   \n",
       "2  1         Threads\\n1         Connections per t...   \n",
       "3  1         Threads\\n1         Connections per t...   \n",
       "4  1         Threads\\n1         Connections per t...   \n",
       "\n",
       "                                                 nop  \n",
       "0  1         Threads\\n1         Connections per t...  \n",
       "1  1         Threads\\n1         Connections per t...  \n",
       "2  1         Threads\\n1         Connections per t...  \n",
       "3  1         Threads\\n1         Connections per t...  \n",
       "4  1         Threads\\n1         Connections per t...  "
      ]
     },
     "execution_count": 2,
     "metadata": {},
     "output_type": "execute_result"
    }
   ],
   "source": [
    "memcache = pd.read_csv('memcache.csv', index_col=0)\n",
    "memcache.head()"
   ]
  },
  {
   "attachments": {},
   "cell_type": "markdown",
   "metadata": {},
   "source": [
    "### Helper"
   ]
  },
  {
   "cell_type": "code",
   "execution_count": 28,
   "metadata": {},
   "outputs": [
    {
     "data": {
      "text/plain": [
       "{'Sets': {'Ops/sec': 138.19,\n",
       "  'Avg. Latency': 0.66273,\n",
       "  'p50 Latency': 0.671,\n",
       "  'p99 Latency': 0.831,\n",
       "  'p99.9 Latency': 0.871,\n",
       "  'KB/sec': 9.43},\n",
       " 'Gets': {'Ops/sec': 1380.36,\n",
       "  'Avg. Latency': 0.65372,\n",
       "  'p50 Latency': 0.655,\n",
       "  'p99 Latency': 0.807,\n",
       "  'p99.9 Latency': 0.831,\n",
       "  'KB/sec': 34.9},\n",
       " 'Totals': {'Ops/sec': 1518.55,\n",
       "  'Avg. Latency': 0.65454,\n",
       "  'p50 Latency': 0.655,\n",
       "  'p99 Latency': 0.807,\n",
       "  'p99.9 Latency': 0.847,\n",
       "  'KB/sec': 44.33}}"
      ]
     },
     "execution_count": 28,
     "metadata": {},
     "output_type": "execute_result"
    }
   ],
   "source": [
    "def extract(entry):\n",
    "    res = {}\n",
    "    cats = ['Sets', 'Gets', 'Totals']\n",
    "    cats_index = {'Sets':9, 'Gets':10, 'Totals':12}\n",
    "    for cat in cats:\n",
    "        res[cat] = {}\n",
    "        res[cat]['Ops/sec'] = float(entry.split('\\n')[cats_index[cat]].split()[1])\n",
    "        res[cat]['Avg. Latency'] = float(entry.split('\\n')[cats_index[cat]].split()[4])\n",
    "        res[cat]['p50 Latency'] = float(entry.split('\\n')[cats_index[cat]].split()[5])\n",
    "        res[cat]['p99 Latency'] = float(entry.split('\\n')[cats_index[cat]].split()[6])\n",
    "        res[cat]['p99.9 Latency'] = float(entry.split('\\n')[cats_index[cat]].split()[7])\n",
    "        res[cat]['KB/sec'] = float(entry.split('\\n')[cats_index[cat]].split()[8])\n",
    "    return res\n",
    "\n",
    "def init():\n",
    "    res = {}\n",
    "    cats = ['Sets', 'Gets', 'Totals']\n",
    "    for cat in cats:\n",
    "        res[cat] = {}\n",
    "        res[cat]['Ops/sec'] = 0\n",
    "        res[cat]['Avg. Latency'] = 0\n",
    "        res[cat]['p50 Latency'] = 0\n",
    "        res[cat]['p99 Latency'] = 0\n",
    "        res[cat]['p99.9 Latency'] = 0\n",
    "        res[cat]['KB/sec'] = 0\n",
    "    return res\n",
    "\n",
    "def add(res1, res2):\n",
    "    res = {}\n",
    "    cats = ['Sets', 'Gets', 'Totals']\n",
    "    for cat in cats:\n",
    "        res[cat] = {}\n",
    "        res[cat]['Ops/sec'] = res1[cat]['Ops/sec'] + res2[cat]['Ops/sec']\n",
    "        res[cat]['Avg. Latency'] = res1[cat]['Avg. Latency'] + res2[cat]['Avg. Latency']\n",
    "        res[cat]['p50 Latency'] = res1[cat]['p50 Latency'] + res2[cat]['p50 Latency']\n",
    "        res[cat]['p99 Latency'] = res1[cat]['p99 Latency'] + res2[cat]['p99 Latency']\n",
    "        res[cat]['p99.9 Latency'] = res1[cat]['p99.9 Latency'] + res2[cat]['p99.9 Latency']\n",
    "        res[cat]['KB/sec'] = res1[cat]['KB/sec'] + res2[cat]['KB/sec']\n",
    "    return res\n",
    "\n",
    "def scale(res, n):\n",
    "    cats = ['Sets', 'Gets', 'Totals']\n",
    "    for cat in cats:        \n",
    "        res[cat]['Ops/sec'] /= n\n",
    "        res[cat]['Avg. Latency'] /= n\n",
    "        res[cat]['p50 Latency'] /= n\n",
    "        res[cat]['p99 Latency'] /= n\n",
    "        res[cat]['p99.9 Latency'] /= n\n",
    "        res[cat]['KB/sec'] /= n    \n",
    "\n",
    "entry = memcache['tcp'][0]\n",
    "extract(entry)\n"
   ]
  },
  {
   "attachments": {},
   "cell_type": "markdown",
   "metadata": {},
   "source": [
    "### Get"
   ]
  },
  {
   "cell_type": "code",
   "execution_count": 30,
   "metadata": {},
   "outputs": [
    {
     "data": {
      "text/plain": [
       "{'tcp': {'Sets': {'Ops/sec': 125.56199999999998,\n",
       "   'Avg. Latency': 0.735676,\n",
       "   'p50 Latency': 0.743,\n",
       "   'p99 Latency': 0.9030000000000001,\n",
       "   'p99.9 Latency': 0.9398,\n",
       "   'KB/sec': 8.568},\n",
       "  'Gets': {'Ops/sec': 1254.216,\n",
       "   'Avg. Latency': 0.7215680000000001,\n",
       "   'p50 Latency': 0.7285999999999999,\n",
       "   'p99 Latency': 0.8806,\n",
       "   'p99.9 Latency': 0.9141999999999999,\n",
       "   'KB/sec': 31.71},\n",
       "  'Totals': {'Ops/sec': 1379.776,\n",
       "   'Avg. Latency': 0.7228519999999999,\n",
       "   'p50 Latency': 0.7318,\n",
       "   'p99 Latency': 0.8821999999999999,\n",
       "   'p99.9 Latency': 0.9222000000000001,\n",
       "   'KB/sec': 40.278}},\n",
       " 'nop': {'Sets': {'Ops/sec': 299.624,\n",
       "   'Avg. Latency': 0.306242,\n",
       "   'p50 Latency': 0.3046,\n",
       "   'p99 Latency': 0.41179999999999994,\n",
       "   'p99.9 Latency': 0.4326,\n",
       "   'KB/sec': 20.444},\n",
       "  'Gets': {'Ops/sec': 2992.942,\n",
       "   'Avg. Latency': 0.29986199999999996,\n",
       "   'p50 Latency': 0.3014,\n",
       "   'p99 Latency': 0.40540000000000004,\n",
       "   'p99.9 Latency': 0.42619999999999997,\n",
       "   'KB/sec': 75.668},\n",
       "  'Totals': {'Ops/sec': 3292.568,\n",
       "   'Avg. Latency': 0.300442,\n",
       "   'p50 Latency': 0.3014,\n",
       "   'p99 Latency': 0.40700000000000003,\n",
       "   'p99.9 Latency': 0.42619999999999997,\n",
       "   'KB/sec': 96.11}},\n",
       " 'rdma': {'Sets': {'Ops/sec': 353.8639999999999,\n",
       "   'Avg. Latency': 0.26571599999999995,\n",
       "   'p50 Latency': 0.2502,\n",
       "   'p99 Latency': 0.391,\n",
       "   'p99.9 Latency': 0.399,\n",
       "   'KB/sec': 24.142000000000003},\n",
       "  'Gets': {'Ops/sec': 3534.7340000000004,\n",
       "   'Avg. Latency': 0.253994,\n",
       "   'p50 Latency': 0.24219999999999997,\n",
       "   'p99 Latency': 0.3798,\n",
       "   'p99.9 Latency': 0.39740000000000003,\n",
       "   'KB/sec': 89.36800000000001},\n",
       "  'Totals': {'Ops/sec': 3888.596,\n",
       "   'Avg. Latency': 0.255058,\n",
       "   'p50 Latency': 0.24219999999999997,\n",
       "   'p99 Latency': 0.3894,\n",
       "   'p99.9 Latency': 0.399,\n",
       "   'KB/sec': 113.51000000000002}}}"
      ]
     },
     "execution_count": 30,
     "metadata": {},
     "output_type": "execute_result"
    }
   ],
   "source": [
    "res = {}\n",
    "cases = ['tcp', 'nop', 'rdma']\n",
    "for case in cases:\n",
    "    res[case] = init()\n",
    "    for entry in memcache[case]:\n",
    "        res[case] = add(res[case], extract(entry))\n",
    "    scale(res[case], 5)\n",
    "res\n",
    "    "
   ]
  }
 ],
 "metadata": {
  "kernelspec": {
   "display_name": "Python 3",
   "language": "python",
   "name": "python3"
  },
  "language_info": {
   "codemirror_mode": {
    "name": "ipython",
    "version": 3
   },
   "file_extension": ".py",
   "mimetype": "text/x-python",
   "name": "python",
   "nbconvert_exporter": "python",
   "pygments_lexer": "ipython3",
   "version": "3.8.10"
  },
  "orig_nbformat": 4
 },
 "nbformat": 4,
 "nbformat_minor": 2
}
