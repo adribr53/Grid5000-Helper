{
 "cells": [
  {
   "attachments": {},
   "cell_type": "markdown",
   "metadata": {},
   "source": [
    "### Install enoslib (+ small setup)"
   ]
  },
  {
   "cell_type": "code",
   "execution_count": null,
   "metadata": {},
   "outputs": [],
   "source": [
    "#!pip install -U pip\n",
    "#!pip install enoslib\n",
    "#!pip install python-grid5000"
   ]
  },
  {
   "cell_type": "code",
   "execution_count": null,
   "metadata": {},
   "outputs": [],
   "source": [
    "# need for credentials in .env\n",
    "#!echo -e \"username: $(head -n 1 .env)\\npassword: $(head -n 2 .env | tail -n 1)\" > ~/.python-grid5000.yaml"
   ]
  },
  {
   "cell_type": "code",
   "execution_count": 41,
   "metadata": {},
   "outputs": [
    {
     "data": {
      "text/plain": [
       "[<Site uid:grenoble>,\n",
       " <Site uid:lille>,\n",
       " <Site uid:luxembourg>,\n",
       " <Site uid:lyon>,\n",
       " <Site uid:nancy>,\n",
       " <Site uid:nantes>,\n",
       " <Site uid:rennes>,\n",
       " <Site uid:sophia>]"
      ]
     },
     "execution_count": 41,
     "metadata": {},
     "output_type": "execute_result"
    }
   ],
   "source": [
    "import enoslib as en\n",
    "from grid5000 import Grid5000\n",
    "from pathlib import Path\n",
    "\n",
    "conf_file = Path.home() / \".python-grid5000.yaml\"\n",
    "gk = Grid5000.from_yaml(conf_file)\n",
    "gk.sites.list() # if credentials were written adequatly in .env, this should work"
   ]
  },
  {
   "attachments": {},
   "cell_type": "markdown",
   "metadata": {},
   "source": [
    "### Launch machines"
   ]
  },
  {
   "cell_type": "code",
   "execution_count": 43,
   "metadata": {},
   "outputs": [
    {
     "data": {
      "application/vnd.jupyter.widget-view+json": {
       "model_id": "f28012d858964e70868f2218f97939bf",
       "version_major": 2,
       "version_minor": 0
      },
      "text/plain": [
       "Output()"
      ]
     },
     "metadata": {},
     "output_type": "display_data"
    },
    {
     "data": {
      "text/html": [
       "<pre style=\"white-space:pre;overflow-x:auto;line-height:normal;font-family:Menlo,'DejaVu Sans Mono',consolas,'Courier New',monospace\"></pre>\n"
      ],
      "text/plain": []
     },
     "metadata": {},
     "output_type": "display_data"
    },
    {
     "data": {
      "text/html": [
       "<pre style=\"white-space:pre;overflow-x:auto;line-height:normal;font-family:Menlo,'DejaVu Sans Mono',consolas,'Courier New',monospace\"><span style=\"color: #000080; text-decoration-color: #000080; font-weight: bold\">Finished </span><span style=\"color: #000080; text-decoration-color: #000080; font-weight: bold\">1</span><span style=\"color: #000080; text-decoration-color: #000080; font-weight: bold\"> tasks</span> <span style=\"font-weight: bold; font-style: italic\">(</span><span style=\"font-style: italic\">Check deployment</span><span style=\"font-weight: bold; font-style: italic\">)</span> on <span style=\"font-weight: bold\">{</span><span style=\"color: #008000; text-decoration-color: #008000\">'gros-90.nancy.grid5000.fr'</span><span style=\"font-weight: bold\">}</span>\n",
       "</pre>\n"
      ],
      "text/plain": [
       "\u001b[1;34mFinished \u001b[0m\u001b[1;34m1\u001b[0m\u001b[1;34m tasks\u001b[0m \u001b[1;3m(\u001b[0m\u001b[3mCheck deployment\u001b[0m\u001b[1;3m)\u001b[0m on \u001b[1m{\u001b[0m\u001b[32m'gros-90.nancy.grid5000.fr'\u001b[0m\u001b[1m}\u001b[0m\n"
      ]
     },
     "metadata": {},
     "output_type": "display_data"
    },
    {
     "data": {
      "text/html": [
       "<pre style=\"white-space:pre;overflow-x:auto;line-height:normal;font-family:Menlo,'DejaVu Sans Mono',consolas,'Courier New',monospace\"><span style=\"color: #00ff00; text-decoration-color: #00ff00\">─────────────────────────────────────────────────────────────────────────────────────────────</span>\n",
       "</pre>\n"
      ],
      "text/plain": [
       "\u001b[92m─────────────────────────────────────────────────────────────────────────────────────────────\u001b[0m\n"
      ]
     },
     "metadata": {},
     "output_type": "display_data"
    },
    {
     "data": {
      "application/vnd.jupyter.widget-view+json": {
       "model_id": "2715a58b9bb547bd943e19e892f5f0f5",
       "version_major": 2,
       "version_minor": 0
      },
      "text/plain": [
       "Output()"
      ]
     },
     "metadata": {},
     "output_type": "display_data"
    },
    {
     "data": {
      "text/html": [
       "<pre style=\"white-space:pre;overflow-x:auto;line-height:normal;font-family:Menlo,'DejaVu Sans Mono',consolas,'Courier New',monospace\"></pre>\n"
      ],
      "text/plain": []
     },
     "metadata": {},
     "output_type": "display_data"
    },
    {
     "data": {
      "text/html": [
       "<pre style=\"white-space:pre;overflow-x:auto;line-height:normal;font-family:Menlo,'DejaVu Sans Mono',consolas,'Courier New',monospace\"><span style=\"color: #000080; text-decoration-color: #000080; font-weight: bold\">Finished </span><span style=\"color: #000080; text-decoration-color: #000080; font-weight: bold\">1</span><span style=\"color: #000080; text-decoration-color: #000080; font-weight: bold\"> tasks</span> <span style=\"font-weight: bold; font-style: italic\">(</span><span style=\"font-style: italic\">Run dhcp on the nodes</span><span style=\"font-weight: bold; font-style: italic\">)</span> on <span style=\"font-weight: bold\">{</span><span style=\"color: #008000; text-decoration-color: #008000\">'gros-90.nancy.grid5000.fr'</span><span style=\"font-weight: bold\">}</span>\n",
       "</pre>\n"
      ],
      "text/plain": [
       "\u001b[1;34mFinished \u001b[0m\u001b[1;34m1\u001b[0m\u001b[1;34m tasks\u001b[0m \u001b[1;3m(\u001b[0m\u001b[3mRun dhcp on the nodes\u001b[0m\u001b[1;3m)\u001b[0m on \u001b[1m{\u001b[0m\u001b[32m'gros-90.nancy.grid5000.fr'\u001b[0m\u001b[1m}\u001b[0m\n"
      ]
     },
     "metadata": {},
     "output_type": "display_data"
    },
    {
     "data": {
      "text/html": [
       "<pre style=\"white-space:pre;overflow-x:auto;line-height:normal;font-family:Menlo,'DejaVu Sans Mono',consolas,'Courier New',monospace\"><span style=\"color: #00ff00; text-decoration-color: #00ff00\">─────────────────────────────────────────────────────────────────────────────────────────────</span>\n",
       "</pre>\n"
      ],
      "text/plain": [
       "\u001b[92m─────────────────────────────────────────────────────────────────────────────────────────────\u001b[0m\n"
      ]
     },
     "metadata": {},
     "output_type": "display_data"
    }
   ],
   "source": [
    "job_name = 'dev'\n",
    "\n",
    "conf = (\n",
    "    en.G5kConf.from_settings(\n",
    "        job_name=job_name,\n",
    "        job_type=[\"deploy\"],\n",
    "        key=\"/home/adrien/.ssh/no_pass.pub\",\n",
    "        env_name=\"ubuntu2204-min\",\n",
    "        walltime=\"2:00:00\"\n",
    "    )    \n",
    "    #.add_machine(roles=[\"client\"], cluster=\"econome\", nodes=1)\n",
    "    .add_machine(roles=[\"server\"], cluster=\"gros\", nodes=1)\n",
    ")\n",
    "\n",
    "provider = en.G5k(conf)\n",
    "\n",
    "roles, networks = provider.init()"
   ]
  },
  {
   "cell_type": "code",
   "execution_count": 44,
   "metadata": {},
   "outputs": [
    {
     "data": {
      "text/plain": [
       "[<Job uid:4003598 site:nancy state:running user:agiot>]"
      ]
     },
     "execution_count": 44,
     "metadata": {},
     "output_type": "execute_result"
    }
   ],
   "source": [
    "provider.jobs"
   ]
  },
  {
   "attachments": {},
   "cell_type": "markdown",
   "metadata": {},
   "source": [
    "### mount local files on grid5000 "
   ]
  },
  {
   "cell_type": "code",
   "execution_count": 45,
   "metadata": {},
   "outputs": [
    {
     "data": {
      "application/vnd.jupyter.widget-view+json": {
       "model_id": "e59d231fc51a41f39ad71f46b0b0566d",
       "version_major": 2,
       "version_minor": 0
      },
      "text/plain": [
       "Output()"
      ]
     },
     "metadata": {},
     "output_type": "display_data"
    },
    {
     "data": {
      "text/html": [
       "<pre style=\"white-space:pre;overflow-x:auto;line-height:normal;font-family:Menlo,'DejaVu Sans Mono',consolas,'Courier New',monospace\"></pre>\n"
      ],
      "text/plain": []
     },
     "metadata": {},
     "output_type": "display_data"
    },
    {
     "data": {
      "text/html": [
       "<pre style=\"white-space:pre;overflow-x:auto;line-height:normal;font-family:Menlo,'DejaVu Sans Mono',consolas,'Courier New',monospace\"><span style=\"color: #000080; text-decoration-color: #000080; font-weight: bold\">Finished </span><span style=\"color: #000080; text-decoration-color: #000080; font-weight: bold\">1</span><span style=\"color: #000080; text-decoration-color: #000080; font-weight: bold\"> tasks</span> <span style=\"font-weight: bold; font-style: italic\">(</span><span style=\"font-style: italic\">echo \"ssh-rsa AAAAB3NzaC1yc2EAAAADAQABAAABAQDUHznpUX9GWGSfcmVImjhhbJHG4ooRU</span>\n",
       "<span style=\"font-style: italic\">qY1Apgcd5HC+6Rrgb/w2cK1dEFf4UNuOQI6CHRBf7hKGnuVdaR0t0XG1qlKcY4C996bsHzzoFCcpZNhLwaGytqeaq1kAj</span>\n",
       "<span style=\"font-style: italic\">fGINrN062rfKybwaA+Kpd6t5KHt2Qd85UkqJfI8TC7aMn/gG+uQnqP0lofYWoiSSK96opKyZVYqWFzpq3hZ4Rrub200pV</span>\n",
       "<span style=\"font-style: italic\">BiYL20jp+gSaLUAVQ6HYYqQ4ZEIy8oxfOP9KQ5IAVI4o86cQChIbXQlxbmsrG48nKMi1Tt0U0jNlE200/45i0jQaAzOL1</span>\n",
       "<span style=\"font-style: italic\">q/rHCe+ghjvbkw1QFykZ6l5q+QvZsC1P Generated passwordless ssh key to move between sites and </span>\n",
       "<span style=\"font-style: italic\">connect nodes</span>\n",
       "<span style=\"font-style: italic\">\" &gt;&gt; .ssh/authorized_keys</span><span style=\"font-weight: bold; font-style: italic\">)</span> on <span style=\"font-weight: bold\">{</span><span style=\"color: #008000; text-decoration-color: #008000\">'gros-90.nancy.grid5000.fr'</span><span style=\"font-weight: bold\">}</span>\n",
       "</pre>\n"
      ],
      "text/plain": [
       "\u001b[1;34mFinished \u001b[0m\u001b[1;34m1\u001b[0m\u001b[1;34m tasks\u001b[0m \u001b[1;3m(\u001b[0m\u001b[3mecho \"ssh-rsa AAAAB3NzaC1yc2EAAAADAQABAAABAQDUHznpUX9GWGSfcmVImjhhbJHG4ooRU\u001b[0m\n",
       "\u001b[3mqY1Apgcd5HC+6Rrgb/w2cK1dEFf4UNuOQI6CHRBf7hKGnuVdaR0t0XG1qlKcY4C996bsHzzoFCcpZNhLwaGytqeaq1kAj\u001b[0m\n",
       "\u001b[3mfGINrN062rfKybwaA+Kpd6t5KHt2Qd85UkqJfI8TC7aMn/gG+uQnqP0lofYWoiSSK96opKyZVYqWFzpq3hZ4Rrub200pV\u001b[0m\n",
       "\u001b[3mBiYL20jp+gSaLUAVQ6HYYqQ4ZEIy8oxfOP9KQ5IAVI4o86cQChIbXQlxbmsrG48nKMi1Tt0U0jNlE200/45i0jQaAzOL1\u001b[0m\n",
       "\u001b[3mq/rHCe+ghjvbkw1QFykZ6l5q+QvZsC1P Generated passwordless ssh key to move between sites and \u001b[0m\n",
       "\u001b[3mconnect nodes\u001b[0m\n",
       "\u001b[3m\" >> .ssh/authorized_keys\u001b[0m\u001b[1;3m)\u001b[0m on \u001b[1m{\u001b[0m\u001b[32m'gros-90.nancy.grid5000.fr'\u001b[0m\u001b[1m}\u001b[0m\n"
      ]
     },
     "metadata": {},
     "output_type": "display_data"
    },
    {
     "data": {
      "text/html": [
       "<pre style=\"white-space:pre;overflow-x:auto;line-height:normal;font-family:Menlo,'DejaVu Sans Mono',consolas,'Courier New',monospace\"><span style=\"color: #00ff00; text-decoration-color: #00ff00\">─────────────────────────────────────────────────────────────────────────────────────────────</span>\n",
       "</pre>\n"
      ],
      "text/plain": [
       "\u001b[92m─────────────────────────────────────────────────────────────────────────────────────────────\u001b[0m\n"
      ]
     },
     "metadata": {},
     "output_type": "display_data"
    },
    {
     "data": {
      "application/vnd.jupyter.widget-view+json": {
       "model_id": "9b326306478f4cf982bcdc4e004b6576",
       "version_major": 2,
       "version_minor": 0
      },
      "text/plain": [
       "Output()"
      ]
     },
     "metadata": {},
     "output_type": "display_data"
    },
    {
     "name": "stdout",
     "output_type": "stream",
     "text": [
      "CHECK\n"
     ]
    },
    {
     "data": {
      "text/html": [
       "<pre style=\"white-space:pre;overflow-x:auto;line-height:normal;font-family:Menlo,'DejaVu Sans Mono',consolas,'Courier New',monospace\"></pre>\n"
      ],
      "text/plain": []
     },
     "metadata": {},
     "output_type": "display_data"
    },
    {
     "data": {
      "text/html": [
       "<pre style=\"white-space:pre;overflow-x:auto;line-height:normal;font-family:Menlo,'DejaVu Sans Mono',consolas,'Courier New',monospace\"><span style=\"color: #000080; text-decoration-color: #000080; font-weight: bold\">Finished </span><span style=\"color: #000080; text-decoration-color: #000080; font-weight: bold\">1</span><span style=\"color: #000080; text-decoration-color: #000080; font-weight: bold\"> tasks</span> <span style=\"font-weight: bold; font-style: italic\">(</span><span style=\"font-style: italic\">cat .ssh/authorized_keys</span><span style=\"font-weight: bold; font-style: italic\">)</span> on <span style=\"font-weight: bold\">{</span><span style=\"color: #008000; text-decoration-color: #008000\">'gros-90.nancy.grid5000.fr'</span><span style=\"font-weight: bold\">}</span>\n",
       "</pre>\n"
      ],
      "text/plain": [
       "\u001b[1;34mFinished \u001b[0m\u001b[1;34m1\u001b[0m\u001b[1;34m tasks\u001b[0m \u001b[1;3m(\u001b[0m\u001b[3mcat .ssh/authorized_keys\u001b[0m\u001b[1;3m)\u001b[0m on \u001b[1m{\u001b[0m\u001b[32m'gros-90.nancy.grid5000.fr'\u001b[0m\u001b[1m}\u001b[0m\n"
      ]
     },
     "metadata": {},
     "output_type": "display_data"
    },
    {
     "data": {
      "text/html": [
       "<pre style=\"white-space:pre;overflow-x:auto;line-height:normal;font-family:Menlo,'DejaVu Sans Mono',consolas,'Courier New',monospace\"><span style=\"color: #00ff00; text-decoration-color: #00ff00\">─────────────────────────────────────────────────────────────────────────────────────────────</span>\n",
       "</pre>\n"
      ],
      "text/plain": [
       "\u001b[92m─────────────────────────────────────────────────────────────────────────────────────────────\u001b[0m\n"
      ]
     },
     "metadata": {},
     "output_type": "display_data"
    },
    {
     "name": "stdout",
     "output_type": "stream",
     "text": [
      "['# Kadeploy key (v2013) see Bug 4923\\nssh-rsa AAAAB3NzaC1yc2EAAAADAQABAAACAQDFLLf3hDGtW56OMMw4uKg/5No2NfmsNMtCR212kiJubuGMC+J8yUFLZOicW0Y+hY5ESLcSVmmoJ5bdLyrtBZBB9EuS18ZIa3c4Lgnsb3HBlwsgLlBcl0kCWICqBs3zsAweIUW9V/vAfCSbReGR/vKqOwVdHr9Kmd3i46MKEZh/Do5jgNiHtF+d6IHLOgoq71KW9ulAdCV6VZic1S92bD766LQdjjgiSvsMBTxeN3eoFzEWtGmnD/q2UrIv4GOZjok3Q9nGCFK56oVssBapZmeO7BrJDh08WoCnDUMZUb7TezWG2q81t0rVciIosB8jjE1BOrtyK3d6UcUwFfkbA8clmG1HU9tSURVmwxoCKbxCYwwyJSmVMIV3aetzV1ifj8599EyxrihjMCFyodThIfrfJ93skktlYomI+qVlfpFjev0B9UBeJ5SVmKqZq2g6YlLYQwd2ri4kGA66qtD1ktdlfVJfxoEkiqjPMAGH5jp0oxj4c18b1rVqhy5lxScbIFbPdbsMhaB2leEfagumA/uUFgq+0HbGKFGYvmCI2J7CFxPvmemrMpjOj4GRpRqucb3gUGJj3tpaxUeTK5AIg1QFPvGHIK667pbAVsU0YW9HqG0Y7G09CNqY9eguftQ4wY6on0+7JpahahHKRupy0A3Hezv6YyGih7junXIIB5/vsQ== deploy@grid5000\\nssh-rsa AAAAB3NzaC1yc2EAAAADAQABAAABgQDByvHf+UfzmivK98UtCJLcR3wfCpmHGerr9gdGoadDvpZlX9gQC/9oB1nt+Xqp7n5BPnK6U0E8jlCg2QgjFGz8+xKuyot58gQaPBRdeNfD4xa4xGknEYSXfnuB0NUz/AFcHwEa965lIt0v2/r2kejMRew2+CTzyFYBu3Q/NvY4cQmWQ55xfP7HKlZ9FtePQY5XLOXF0TlZpQPq03E3OCO2cDFKgez3hNY/D1etavcbGf/ZnpFulEJLwJC3Ig459vARRbs6Pw8ScNAlJ+HGHcU5lCZLRIEFxN4L4v7Lupd2NH1a4Im/7FF9W5+iEsCMyvP6grreSy0ZH/RAuZmkDPCmL/s7/XN8LcvIWDQI0eOeNbklx56hhzaXeC2Zrn/1zftz30u1jZSyRBjsUO99QxOmdEpZVgLA/ELC+hIUU0815zuLLGK6OhK4KAQC9zzvIJbU6VWd7XY9VcaETceFdHc93FZ9h8TCehQ1OV4wfBH7Hz4Z6XDF13Gw0AuwNMTQ+VE= adrien@adrien-ThinkPad-X280\\nssh-rsa AAAAB3NzaC1yc2EAAAADAQABAAABAQDUHznpUX9GWGSfcmVImjhhbJHG4ooRUqY1Apgcd5HC+6Rrgb/w2cK1dEFf4UNuOQI6CHRBf7hKGnuVdaR0t0XG1qlKcY4C996bsHzzoFCcpZNhLwaGytqeaq1kAjfGINrN062rfKybwaA+Kpd6t5KHt2Qd85UkqJfI8TC7aMn/gG+uQnqP0lofYWoiSSK96opKyZVYqWFzpq3hZ4Rrub200pVBiYL20jp+gSaLUAVQ6HYYqQ4ZEIy8oxfOP9KQ5IAVI4o86cQChIbXQlxbmsrG48nKMi1Tt0U0jNlE200/45i0jQaAzOL1q/rHCe+ghjvbkw1QFykZ6l5q+QvZsC1P Generated passwordless ssh key to move between sites and connect nodes']\n"
     ]
    }
   ],
   "source": [
    "import subprocess\n",
    "\n",
    "site = conf.sites[0]\n",
    "\n",
    "batcmd=f'ssh {site}.g5k \"cat .ssh/id_rsa.pub\"'\n",
    "public = subprocess.check_output(batcmd, shell=True).decode()\n",
    "res = en.run_command(f'echo \"{public}\" >> .ssh/authorized_keys', roles=roles)\n",
    "\n",
    "\n",
    "print(\"CHECK\")\n",
    "res = en.run_command(f'cat .ssh/authorized_keys', roles=roles)\n",
    "print([r.stdout for r in res])"
   ]
  },
  {
   "cell_type": "code",
   "execution_count": 39,
   "metadata": {},
   "outputs": [
    {
     "name": "stdout",
     "output_type": "stream",
     "text": [
      "econome-5\n"
     ]
    }
   ],
   "source": [
    "import os\n",
    "for role in roles:\n",
    "  hosts = [_.alias.split('.')[0] for _ in roles[role]]\n",
    "  for host in hosts:\n",
    "    os.system(f'bash mount_sshfs.sh {site} {host} {role}')"
   ]
  },
  {
   "attachments": {},
   "cell_type": "markdown",
   "metadata": {},
   "source": [
    "### Setup the machines"
   ]
  },
  {
   "cell_type": "code",
   "execution_count": 11,
   "metadata": {},
   "outputs": [
    {
     "data": {
      "application/vnd.jupyter.widget-view+json": {
       "model_id": "50a6b26be2914d5d9bb1ca00dbfc07b1",
       "version_major": 2,
       "version_minor": 0
      },
      "text/plain": [
       "Output()"
      ]
     },
     "metadata": {},
     "output_type": "display_data"
    },
    {
     "data": {
      "text/html": [
       "<pre style=\"white-space:pre;overflow-x:auto;line-height:normal;font-family:Menlo,'DejaVu Sans Mono',consolas,'Courier New',monospace\"></pre>\n"
      ],
      "text/plain": []
     },
     "metadata": {},
     "output_type": "display_data"
    },
    {
     "data": {
      "text/html": [
       "<pre style=\"white-space:pre;overflow-x:auto;line-height:normal;font-family:Menlo,'DejaVu Sans Mono',consolas,'Courier New',monospace\"><span style=\"color: #000080; text-decoration-color: #000080; font-weight: bold\">Finished </span><span style=\"color: #000080; text-decoration-color: #000080; font-weight: bold\">1</span><span style=\"color: #000080; text-decoration-color: #000080; font-weight: bold\"> tasks</span> <span style=\"font-weight: bold; font-style: italic\">(</span><span style=\"font-style: italic\">shell</span><span style=\"font-weight: bold; font-style: italic\">)</span> on <span style=\"font-weight: bold\">{</span><span style=\"color: #008000; text-decoration-color: #008000\">'gros-63.nancy.grid5000.fr'</span><span style=\"font-weight: bold\">}</span>\n",
       "</pre>\n"
      ],
      "text/plain": [
       "\u001b[1;34mFinished \u001b[0m\u001b[1;34m1\u001b[0m\u001b[1;34m tasks\u001b[0m \u001b[1;3m(\u001b[0m\u001b[3mshell\u001b[0m\u001b[1;3m)\u001b[0m on \u001b[1m{\u001b[0m\u001b[32m'gros-63.nancy.grid5000.fr'\u001b[0m\u001b[1m}\u001b[0m\n"
      ]
     },
     "metadata": {},
     "output_type": "display_data"
    },
    {
     "data": {
      "text/html": [
       "<pre style=\"white-space:pre;overflow-x:auto;line-height:normal;font-family:Menlo,'DejaVu Sans Mono',consolas,'Courier New',monospace\"><span style=\"color: #00ff00; text-decoration-color: #00ff00\">─────────────────────────────────────────────────────────────────────────────────────────────</span>\n",
       "</pre>\n"
      ],
      "text/plain": [
       "\u001b[92m─────────────────────────────────────────────────────────────────────────────────────────────\u001b[0m\n"
      ]
     },
     "metadata": {},
     "output_type": "display_data"
    }
   ],
   "source": [
    "with en.actions(roles=roles) as p:    \n",
    "    p.shell(\"apt update\")"
   ]
  },
  {
   "cell_type": "code",
   "execution_count": 20,
   "metadata": {},
   "outputs": [
    {
     "name": "stdout",
     "output_type": "stream",
     "text": [
      "['# Kadeploy key (v2013) see Bug 4923\\nssh-rsa AAAAB3NzaC1yc2EAAAADAQABAAACAQDFLLf3hDGtW56OMMw4uKg/5No2NfmsNMtCR212kiJubuGMC+J8yUFLZOicW0Y+hY5ESLcSVmmoJ5bdLyrtBZBB9EuS18ZIa3c4Lgnsb3HBlwsgLlBcl0kCWICqBs3zsAweIUW9V/vAfCSbReGR/vKqOwVdHr9Kmd3i46MKEZh/Do5jgNiHtF+d6IHLOgoq71KW9ulAdCV6VZic1S92bD766LQdjjgiSvsMBTxeN3eoFzEWtGmnD/q2UrIv4GOZjok3Q9nGCFK56oVssBapZmeO7BrJDh08WoCnDUMZUb7TezWG2q81t0rVciIosB8jjE1BOrtyK3d6UcUwFfkbA8clmG1HU9tSURVmwxoCKbxCYwwyJSmVMIV3aetzV1ifj8599EyxrihjMCFyodThIfrfJ93skktlYomI+qVlfpFjev0B9UBeJ5SVmKqZq2g6YlLYQwd2ri4kGA66qtD1ktdlfVJfxoEkiqjPMAGH5jp0oxj4c18b1rVqhy5lxScbIFbPdbsMhaB2leEfagumA/uUFgq+0HbGKFGYvmCI2J7CFxPvmemrMpjOj4GRpRqucb3gUGJj3tpaxUeTK5AIg1QFPvGHIK667pbAVsU0YW9HqG0Y7G09CNqY9eguftQ4wY6on0+7JpahahHKRupy0A3Hezv6YyGih7junXIIB5/vsQ== deploy@grid5000\\nssh-rsa AAAAB3NzaC1yc2EAAAADAQABAAABgQDByvHf+UfzmivK98UtCJLcR3wfCpmHGerr9gdGoadDvpZlX9gQC/9oB1nt+Xqp7n5BPnK6U0E8jlCg2QgjFGz8+xKuyot58gQaPBRdeNfD4xa4xGknEYSXfnuB0NUz/AFcHwEa965lIt0v2/r2kejMRew2+CTzyFYBu3Q/NvY4cQmWQ55xfP7HKlZ9FtePQY5XLOXF0TlZpQPq03E3OCO2cDFKgez3hNY/D1etavcbGf/ZnpFulEJLwJC3Ig459vARRbs6Pw8ScNAlJ+HGHcU5lCZLRIEFxN4L4v7Lupd2NH1a4Im/7FF9W5+iEsCMyvP6grreSy0ZH/RAuZmkDPCmL/s7/XN8LcvIWDQI0eOeNbklx56hhzaXeC2Zrn/1zftz30u1jZSyRBjsUO99QxOmdEpZVgLA/ELC+hIUU0815zuLLGK6OhK4KAQC9zzvIJbU6VWd7XY9VcaETceFdHc93FZ9h8TCehQ1OV4wfBH7Hz4Z6XDF13Gw0AuwNMTQ+VE= adrien@adrien-ThinkPad-X280']\n"
     ]
    }
   ],
   "source": [
    "print([r.stdout for r in res])"
   ]
  },
  {
   "attachments": {},
   "cell_type": "markdown",
   "metadata": {},
   "source": [
    "### Kill every last one of them"
   ]
  },
  {
   "cell_type": "code",
   "execution_count": 40,
   "metadata": {},
   "outputs": [],
   "source": [
    "# Release all Grid'5000 resources\n",
    "provider.destroy()"
   ]
  }
 ],
 "metadata": {
  "kernelspec": {
   "display_name": "Python 3",
   "language": "python",
   "name": "python3"
  },
  "language_info": {
   "codemirror_mode": {
    "name": "ipython",
    "version": 3
   },
   "file_extension": ".py",
   "mimetype": "text/x-python",
   "name": "python",
   "nbconvert_exporter": "python",
   "pygments_lexer": "ipython3",
   "version": "3.8.10"
  },
  "orig_nbformat": 4,
  "vscode": {
   "interpreter": {
    "hash": "916dbcbb3f70747c44a77c7bcd40155683ae19c65e1c03b4aa3499c5328201f1"
   }
  }
 },
 "nbformat": 4,
 "nbformat_minor": 2
}
