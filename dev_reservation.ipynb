{
 "cells": [
  {
   "cell_type": "markdown",
   "metadata": {},
   "source": [
    "### Install enoslib (+ small setup)"
   ]
  },
  {
   "cell_type": "code",
   "execution_count": null,
   "metadata": {},
   "outputs": [],
   "source": [
    "#!pip install -U pip\n",
    "#!pip install enoslib\n",
    "#!pip install python-grid5000\n",
    "# need for credentials in .env\n",
    "#!echo -e \"username: $(head -n 1 .env)\\npassword: $(head -n 2 .env | tail -n 1)\" > ~/.python-grid5000.yaml"
   ]
  },
  {
   "cell_type": "code",
   "execution_count": null,
   "metadata": {},
   "outputs": [],
   "source": [
    "import enoslib as en\n",
    "from grid5000 import Grid5000\n",
    "from pathlib import Path\n",
    "\n",
    "conf_file = Path.home() / \".python-grid5000.yaml\"\n",
    "print(conf_file)\n",
    "gk = Grid5000.from_yaml(conf_file)\n",
    "gk.sites.list() # if credentials were written adequatly in .env, this should work"
   ]
  },
  {
   "cell_type": "markdown",
   "metadata": {},
   "source": [
    "### Launch machines"
   ]
  },
  {
   "cell_type": "code",
   "execution_count": null,
   "metadata": {},
   "outputs": [],
   "source": [
    "job_name = 'dev'\n",
    "\n",
    "cluster  = 'uvb'\n",
    "conf = (\n",
    "    en.G5kConf.from_settings(\n",
    "        job_name=job_name,\n",
    "        key=\"/home/adrien/.ssh/no_pass.pub\",\n",
    "        walltime=\"2:00:00\"\n",
    "    )    \n",
    "    .add_machine(roles=[\"worker\"], cluster=cluster, nodes=2)\n",
    ")\n",
    "\n",
    "provider = en.G5k(conf)\n",
    "\n",
    "roles, networks = provider.init()"
   ]
  },
  {
   "cell_type": "code",
   "execution_count": null,
   "metadata": {},
   "outputs": [],
   "source": [
    "provider.jobs"
   ]
  },
  {
   "cell_type": "markdown",
   "metadata": {},
   "source": [
    "### mount local files on grid5000 "
   ]
  },
  {
   "cell_type": "markdown",
   "metadata": {},
   "source": [
    "### Setup the machines"
   ]
  },
  {
   "cell_type": "code",
   "execution_count": null,
   "metadata": {},
   "outputs": [],
   "source": [
    "with en.actions(roles=roles) as p:\n",
    "    p.apt(name=[\"librdmacm1\", \"ibverbs-utils\", \"librdmacm-dev\"], state=\"present\")"
   ]
  },
  {
   "cell_type": "markdown",
   "metadata": {},
   "source": [
    "### Kill every last one of them"
   ]
  },
  {
   "cell_type": "code",
   "execution_count": null,
   "metadata": {},
   "outputs": [],
   "source": [
    "# Release all Grid'5000 resources\n",
    "provider.destroy()"
   ]
  }
 ],
 "metadata": {
  "kernelspec": {
   "display_name": "Python 3 (ipykernel)",
   "language": "python",
   "name": "python3"
  },
  "language_info": {
   "codemirror_mode": {
    "name": "ipython",
    "version": 3
   },
   "file_extension": ".py",
   "mimetype": "text/x-python",
   "name": "python",
   "nbconvert_exporter": "python",
   "pygments_lexer": "ipython3",
   "version": "3.9.6"
  },
  "vscode": {
   "interpreter": {
    "hash": "916dbcbb3f70747c44a77c7bcd40155683ae19c65e1c03b4aa3499c5328201f1"
   }
  }
 },
 "nbformat": 4,
 "nbformat_minor": 2
}
